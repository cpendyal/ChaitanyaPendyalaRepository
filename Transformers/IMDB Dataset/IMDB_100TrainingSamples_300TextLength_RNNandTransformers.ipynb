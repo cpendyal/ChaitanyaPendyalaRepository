{
  "cells": [
    {
      "cell_type": "markdown",
      "metadata": {
        "id": "0RUw8qf9VvKy"
      },
      "source": [
        "This is a companion notebook for the book [Deep Learning with Python, Second Edition](https://www.manning.com/books/deep-learning-with-python-second-edition?a_aid=keras&a_bid=76564dff). For readability, it only contains runnable code blocks and section titles, and omits everything else in the book: text paragraphs, figures, and pseudocode.\n",
        "\n",
        "**If you want to be able to follow what's going on, I recommend reading the notebook side by side with your copy of the book.**\n",
        "\n",
        "This notebook was generated for TensorFlow 2.6."
      ]
    },
    {
      "cell_type": "markdown",
      "metadata": {
        "id": "AGDCzQ73VvK0"
      },
      "source": [
        "### Processing words as a sequence: The sequence model approach"
      ]
    },
    {
      "cell_type": "markdown",
      "metadata": {
        "id": "i9wZZIaEVvK0"
      },
      "source": [
        "#### A first practical example"
      ]
    },
    {
      "cell_type": "markdown",
      "metadata": {
        "id": "mJYAfPexVvK0"
      },
      "source": [
        "**Downloading the data**"
      ]
    },
    {
      "cell_type": "code",
      "execution_count": null,
      "metadata": {
        "id": "Cgf6PTwiVvK1",
        "outputId": "292e5960-3a19-4018-e706-83826cb1be0d",
        "colab": {
          "base_uri": "https://localhost:8080/"
        }
      },
      "outputs": [
        {
          "output_type": "stream",
          "name": "stdout",
          "text": [
            "  % Total    % Received % Xferd  Average Speed   Time    Time     Time  Current\n",
            "                                 Dload  Upload   Total   Spent    Left  Speed\n",
            "100 80.2M  100 80.2M    0     0  10.5M      0  0:00:07  0:00:07 --:--:-- 15.7M\n"
          ]
        }
      ],
      "source": [
        "!curl -O https://ai.stanford.edu/~amaas/data/sentiment/aclImdb_v1.tar.gz\n",
        "!tar -xf aclImdb_v1.tar.gz\n",
        "!rm -r aclImdb/train/unsup"
      ]
    },
    {
      "cell_type": "markdown",
      "metadata": {
        "id": "qskkHdUfVvK1"
      },
      "source": [
        "**Preparing the data**"
      ]
    },
    {
      "cell_type": "code",
      "execution_count": null,
      "metadata": {
        "id": "ZNX-OhpXVvK2",
        "outputId": "9a4c495f-9b07-441d-b083-f266894f0db0",
        "colab": {
          "base_uri": "https://localhost:8080/"
        }
      },
      "outputs": [
        {
          "output_type": "stream",
          "name": "stdout",
          "text": [
            "Found 100 files belonging to 2 classes.\n",
            "Found 10000 files belonging to 2 classes.\n",
            "Found 25000 files belonging to 2 classes.\n"
          ]
        }
      ],
      "source": [
        "import os, pathlib, shutil, random\n",
        "from tensorflow import keras\n",
        "batch_size = 32\n",
        "base_dir = pathlib.Path(\"aclImdb\")\n",
        "val_dir = base_dir / \"val\"\n",
        "train_dir = base_dir / \"train\"\n",
        "excess_dir = base_dir / \"excess\"\n",
        "for category in (\"neg\", \"pos\"):\n",
        "    os.makedirs(val_dir / category)\n",
        "    os.makedirs(excess_dir / category)\n",
        "    files = os.listdir(train_dir / category)\n",
        "    random.Random(1337).shuffle(files)\n",
        "    num_val_samples = 5000\n",
        "    val_files = files[-num_val_samples:]\n",
        "    for fname in val_files:\n",
        "        shutil.move(train_dir / category / fname,\n",
        "                    val_dir / category / fname)\n",
        "\n",
        "    files = os.listdir(train_dir / category)\n",
        "    random.Random(1338).shuffle(files)\n",
        "    num_ex_samples = 50\n",
        "    ex_files = files[-num_ex_samples:]\n",
        "    for fname in ex_files:\n",
        "        shutil.move(train_dir / category / fname,\n",
        "                    excess_dir / category / fname)\n",
        "\n",
        "train_ds = keras.utils.text_dataset_from_directory(\n",
        "    \"aclImdb/excess\", batch_size=batch_size\n",
        ")\n",
        "val_ds = keras.utils.text_dataset_from_directory(\n",
        "    \"aclImdb/val\", batch_size=batch_size\n",
        ")\n",
        "test_ds = keras.utils.text_dataset_from_directory(\n",
        "    \"aclImdb/test\", batch_size=batch_size\n",
        ")\n",
        "text_only_train_ds = train_ds.map(lambda x, y: x)"
      ]
    },
    {
      "cell_type": "code",
      "source": [
        "\n",
        "!ls -al /content/aclImdb/excess/neg/ | wc\n",
        "!ls -al /content/aclImdb/excess/pos/ | wc\n",
        "!ls -al /content/aclImdb/val/pos/ | wc\n",
        "!rm -rf /content/aclImdb1/\n",
        "!rm -rf /content/aclImdb/"
      ],
      "metadata": {
        "id": "5A4bB94KbPqH",
        "outputId": "f651de25-e478-4426-b83a-4595effa9ead",
        "colab": {
          "base_uri": "https://localhost:8080/"
        }
      },
      "execution_count": null,
      "outputs": [
        {
          "output_type": "stream",
          "name": "stdout",
          "text": [
            "     53     470    2702\n",
            "     53     470    2722\n",
            "  10003   90020  545011\n"
          ]
        }
      ]
    },
    {
      "cell_type": "markdown",
      "metadata": {
        "id": "PJf8R_-eVvK2"
      },
      "source": [
        "**Preparing integer sequence datasets**"
      ]
    },
    {
      "cell_type": "code",
      "execution_count": null,
      "metadata": {
        "id": "cH2ALGr_VvK2"
      },
      "outputs": [],
      "source": [
        "from tensorflow.keras import layers\n",
        "\n",
        "max_length = 300\n",
        "max_tokens = 10000\n",
        "text_vectorization = layers.TextVectorization(\n",
        "    max_tokens=max_tokens,\n",
        "    output_mode=\"int\",\n",
        "    output_sequence_length=max_length,\n",
        ")\n",
        "text_vectorization.adapt(text_only_train_ds)\n",
        "\n",
        "int_train_ds = train_ds.map(\n",
        "    lambda x, y: (text_vectorization(x), y),\n",
        "    num_parallel_calls=4)\n",
        "int_val_ds = val_ds.map(\n",
        "    lambda x, y: (text_vectorization(x), y),\n",
        "    num_parallel_calls=4)\n",
        "int_test_ds = test_ds.map(\n",
        "    lambda x, y: (text_vectorization(x), y),\n",
        "    num_parallel_calls=4)"
      ]
    },
    {
      "cell_type": "markdown",
      "metadata": {
        "id": "n1KD7sSoVvK3"
      },
      "source": [
        "**A sequence model built on one-hot encoded vector sequences**"
      ]
    },
    {
      "cell_type": "code",
      "execution_count": null,
      "metadata": {
        "id": "D7o7lmIRVvK3",
        "colab": {
          "base_uri": "https://localhost:8080/"
        },
        "outputId": "6d8e6bb9-ed0a-474e-bc37-45be8b6c00a1"
      },
      "outputs": [
        {
          "output_type": "stream",
          "name": "stdout",
          "text": [
            "Model: \"model\"\n",
            "_________________________________________________________________\n",
            " Layer (type)                Output Shape              Param #   \n",
            "=================================================================\n",
            " input_1 (InputLayer)        [(None, None)]            0         \n",
            "                                                                 \n",
            " tf.one_hot (TFOpLambda)     (None, None, 10000)       0         \n",
            "                                                                 \n",
            " bidirectional (Bidirection  (None, 64)                2568448   \n",
            " al)                                                             \n",
            "                                                                 \n",
            " dropout (Dropout)           (None, 64)                0         \n",
            "                                                                 \n",
            " dense (Dense)               (None, 1)                 65        \n",
            "                                                                 \n",
            "=================================================================\n",
            "Total params: 2568513 (9.80 MB)\n",
            "Trainable params: 2568513 (9.80 MB)\n",
            "Non-trainable params: 0 (0.00 Byte)\n",
            "_________________________________________________________________\n"
          ]
        }
      ],
      "source": [
        "import tensorflow as tf\n",
        "inputs = keras.Input(shape=(None,), dtype=\"int64\")\n",
        "embedded = tf.one_hot(inputs, depth=max_tokens)\n",
        "x = layers.Bidirectional(layers.LSTM(32))(embedded)\n",
        "x = layers.Dropout(0.5)(x)\n",
        "outputs = layers.Dense(1, activation=\"sigmoid\")(x)\n",
        "model = keras.Model(inputs, outputs)\n",
        "model.compile(optimizer=\"adam\",\n",
        "              loss=\"binary_crossentropy\",\n",
        "              metrics=[\"accuracy\"])\n",
        "model.summary()"
      ]
    },
    {
      "cell_type": "markdown",
      "metadata": {
        "id": "iCp2KCjrVvK3"
      },
      "source": [
        "**Training a first basic sequence model**"
      ]
    },
    {
      "cell_type": "code",
      "execution_count": null,
      "metadata": {
        "id": "kPK-nrBnVvK3",
        "colab": {
          "base_uri": "https://localhost:8080/"
        },
        "outputId": "39c497d8-135e-49c2-8f81-f779d707402d"
      },
      "outputs": [
        {
          "output_type": "stream",
          "name": "stdout",
          "text": [
            "Epoch 1/10\n",
            "4/4 [==============================] - 28s 7s/step - loss: 0.6947 - accuracy: 0.5100 - val_loss: 0.6931 - val_accuracy: 0.4993\n",
            "Epoch 2/10\n",
            "4/4 [==============================] - 11s 4s/step - loss: 0.6918 - accuracy: 0.5500 - val_loss: 0.6929 - val_accuracy: 0.5022\n",
            "Epoch 3/10\n",
            "4/4 [==============================] - 21s 7s/step - loss: 0.6895 - accuracy: 0.6300 - val_loss: 0.6928 - val_accuracy: 0.5299\n",
            "Epoch 4/10\n",
            "4/4 [==============================] - 11s 4s/step - loss: 0.6855 - accuracy: 0.8200 - val_loss: 0.6928 - val_accuracy: 0.5092\n",
            "Epoch 5/10\n",
            "4/4 [==============================] - 11s 4s/step - loss: 0.6817 - accuracy: 0.8100 - val_loss: 0.6927 - val_accuracy: 0.5060\n",
            "Epoch 6/10\n",
            "4/4 [==============================] - 11s 4s/step - loss: 0.6801 - accuracy: 0.7500 - val_loss: 0.6926 - val_accuracy: 0.5046\n",
            "Epoch 7/10\n",
            "4/4 [==============================] - 21s 7s/step - loss: 0.6742 - accuracy: 0.7600 - val_loss: 0.6925 - val_accuracy: 0.5016\n",
            "Epoch 8/10\n",
            "4/4 [==============================] - 11s 4s/step - loss: 0.6682 - accuracy: 0.8100 - val_loss: 0.6922 - val_accuracy: 0.5029\n",
            "Epoch 9/10\n",
            "4/4 [==============================] - 21s 7s/step - loss: 0.6534 - accuracy: 0.8300 - val_loss: 0.6917 - val_accuracy: 0.5054\n",
            "Epoch 10/10\n",
            "4/4 [==============================] - 21s 7s/step - loss: 0.6340 - accuracy: 0.9000 - val_loss: 0.6893 - val_accuracy: 0.5221\n",
            "782/782 [==============================] - 29s 36ms/step - loss: 0.6902 - accuracy: 0.5200\n",
            "Test acc: 0.520\n"
          ]
        }
      ],
      "source": [
        "callbacks = [\n",
        "    keras.callbacks.ModelCheckpoint(\"one_hot_bidir_lstm.keras\",\n",
        "                                    save_best_only=True)\n",
        "]\n",
        "model.fit(int_train_ds, validation_data=int_val_ds, epochs=10, callbacks=callbacks)\n",
        "model = keras.models.load_model(\"one_hot_bidir_lstm.keras\")\n",
        "print(f\"Test acc: {model.evaluate(int_test_ds)[1]:.3f}\")"
      ]
    },
    {
      "cell_type": "markdown",
      "metadata": {
        "id": "H_TIf0FHVvK4"
      },
      "source": [
        "#### Understanding word embeddings"
      ]
    },
    {
      "cell_type": "markdown",
      "metadata": {
        "id": "m1mhW9dIVvK4"
      },
      "source": [
        "#### Learning word embeddings with the Embedding layer"
      ]
    },
    {
      "cell_type": "markdown",
      "metadata": {
        "id": "NOaineC8VvK4"
      },
      "source": [
        "**Instantiating an `Embedding` layer**"
      ]
    },
    {
      "cell_type": "code",
      "execution_count": null,
      "metadata": {
        "id": "P5htm57OVvK5"
      },
      "outputs": [],
      "source": [
        "embedding_layer = layers.Embedding(input_dim=max_tokens, output_dim=256)"
      ]
    },
    {
      "cell_type": "markdown",
      "metadata": {
        "id": "ApyfdGMMVvK5"
      },
      "source": [
        "**Model that uses an `Embedding` layer trained from scratch**"
      ]
    },
    {
      "cell_type": "code",
      "execution_count": null,
      "metadata": {
        "id": "QFlxPYS3VvK5",
        "colab": {
          "base_uri": "https://localhost:8080/"
        },
        "outputId": "45818024-86f2-4476-ee02-25d1fee5014a"
      },
      "outputs": [
        {
          "output_type": "stream",
          "name": "stdout",
          "text": [
            "Model: \"model_1\"\n",
            "_________________________________________________________________\n",
            " Layer (type)                Output Shape              Param #   \n",
            "=================================================================\n",
            " input_2 (InputLayer)        [(None, None)]            0         \n",
            "                                                                 \n",
            " embedding_1 (Embedding)     (None, None, 256)         2560000   \n",
            "                                                                 \n",
            " bidirectional_1 (Bidirecti  (None, 64)                73984     \n",
            " onal)                                                           \n",
            "                                                                 \n",
            " dropout_1 (Dropout)         (None, 64)                0         \n",
            "                                                                 \n",
            " dense_1 (Dense)             (None, 1)                 65        \n",
            "                                                                 \n",
            "=================================================================\n",
            "Total params: 2634049 (10.05 MB)\n",
            "Trainable params: 2634049 (10.05 MB)\n",
            "Non-trainable params: 0 (0.00 Byte)\n",
            "_________________________________________________________________\n",
            "Epoch 1/10\n",
            "4/4 [==============================] - 12s 2s/step - loss: 0.6946 - accuracy: 0.4400 - val_loss: 0.6931 - val_accuracy: 0.4962\n",
            "Epoch 2/10\n",
            "4/4 [==============================] - 4s 1s/step - loss: 0.6829 - accuracy: 0.6700 - val_loss: 0.6927 - val_accuracy: 0.5129\n",
            "Epoch 3/10\n",
            "4/4 [==============================] - 6s 2s/step - loss: 0.6782 - accuracy: 0.7000 - val_loss: 0.6924 - val_accuracy: 0.5104\n",
            "Epoch 4/10\n",
            "4/4 [==============================] - 4s 1s/step - loss: 0.6642 - accuracy: 0.7900 - val_loss: 0.6924 - val_accuracy: 0.5026\n",
            "Epoch 5/10\n",
            "4/4 [==============================] - 4s 1s/step - loss: 0.6506 - accuracy: 0.7100 - val_loss: 0.6924 - val_accuracy: 0.5027\n",
            "Epoch 6/10\n",
            "4/4 [==============================] - 5s 1s/step - loss: 0.6234 - accuracy: 0.8500 - val_loss: 0.6917 - val_accuracy: 0.5056\n",
            "Epoch 7/10\n",
            "4/4 [==============================] - 4s 1s/step - loss: 0.5944 - accuracy: 0.8700 - val_loss: 0.6901 - val_accuracy: 0.5279\n",
            "Epoch 8/10\n",
            "4/4 [==============================] - 6s 2s/step - loss: 0.5304 - accuracy: 0.9400 - val_loss: 0.6857 - val_accuracy: 0.5497\n",
            "Epoch 9/10\n",
            "4/4 [==============================] - 6s 2s/step - loss: 0.4276 - accuracy: 0.9700 - val_loss: 0.6959 - val_accuracy: 0.5609\n",
            "Epoch 10/10\n",
            "4/4 [==============================] - 4s 1s/step - loss: 0.2938 - accuracy: 0.9600 - val_loss: 0.6788 - val_accuracy: 0.6105\n",
            "782/782 [==============================] - 11s 12ms/step - loss: 0.6832 - accuracy: 0.6058\n",
            "Test acc: 0.606\n"
          ]
        }
      ],
      "source": [
        "inputs = keras.Input(shape=(None,), dtype=\"int64\")\n",
        "embedded = layers.Embedding(input_dim=max_tokens, output_dim=256)(inputs)\n",
        "x = layers.Bidirectional(layers.LSTM(32))(embedded)\n",
        "x = layers.Dropout(0.5)(x)\n",
        "outputs = layers.Dense(1, activation=\"sigmoid\")(x)\n",
        "model = keras.Model(inputs, outputs)\n",
        "model.compile(optimizer=\"adam\",\n",
        "              loss=\"binary_crossentropy\",\n",
        "              metrics=[\"accuracy\"])\n",
        "model.summary()\n",
        "\n",
        "callbacks = [\n",
        "    keras.callbacks.ModelCheckpoint(\"embeddings_bidir_gru.keras\",\n",
        "                                    save_best_only=True)\n",
        "]\n",
        "model.fit(int_train_ds, validation_data=int_val_ds, epochs=10, callbacks=callbacks)\n",
        "model = keras.models.load_model(\"embeddings_bidir_gru.keras\")\n",
        "print(f\"Test acc: {model.evaluate(int_test_ds)[1]:.3f}\")"
      ]
    },
    {
      "cell_type": "markdown",
      "metadata": {
        "id": "51XoyrViVvK5"
      },
      "source": [
        "#### Understanding padding and masking"
      ]
    },
    {
      "cell_type": "markdown",
      "metadata": {
        "id": "dqfvUFbEVvK5"
      },
      "source": [
        "**Using an `Embedding` layer with masking enabled**"
      ]
    },
    {
      "cell_type": "code",
      "execution_count": null,
      "metadata": {
        "id": "5USW5v2rVvK5",
        "colab": {
          "base_uri": "https://localhost:8080/"
        },
        "outputId": "2fc8a43f-379b-4b8c-ea93-ce2c53c97444"
      },
      "outputs": [
        {
          "output_type": "stream",
          "name": "stdout",
          "text": [
            "Model: \"model_2\"\n",
            "_________________________________________________________________\n",
            " Layer (type)                Output Shape              Param #   \n",
            "=================================================================\n",
            " input_3 (InputLayer)        [(None, None)]            0         \n",
            "                                                                 \n",
            " embedding_2 (Embedding)     (None, None, 256)         2560000   \n",
            "                                                                 \n",
            " bidirectional_2 (Bidirecti  (None, 64)                73984     \n",
            " onal)                                                           \n",
            "                                                                 \n",
            " dropout_2 (Dropout)         (None, 64)                0         \n",
            "                                                                 \n",
            " dense_2 (Dense)             (None, 1)                 65        \n",
            "                                                                 \n",
            "=================================================================\n",
            "Total params: 2634049 (10.05 MB)\n",
            "Trainable params: 2634049 (10.05 MB)\n",
            "Non-trainable params: 0 (0.00 Byte)\n",
            "_________________________________________________________________\n",
            "Epoch 1/10\n",
            "4/4 [==============================] - 15s 3s/step - loss: 0.6930 - accuracy: 0.5300 - val_loss: 0.6926 - val_accuracy: 0.5099\n",
            "Epoch 2/10\n",
            "4/4 [==============================] - 5s 2s/step - loss: 0.6787 - accuracy: 0.7700 - val_loss: 0.6923 - val_accuracy: 0.5041\n",
            "Epoch 3/10\n",
            "4/4 [==============================] - 6s 2s/step - loss: 0.6642 - accuracy: 0.8900 - val_loss: 0.6918 - val_accuracy: 0.5067\n",
            "Epoch 4/10\n",
            "4/4 [==============================] - 4s 1s/step - loss: 0.6473 - accuracy: 0.9000 - val_loss: 0.6910 - val_accuracy: 0.5168\n",
            "Epoch 5/10\n",
            "4/4 [==============================] - 5s 2s/step - loss: 0.6225 - accuracy: 0.9800 - val_loss: 0.6896 - val_accuracy: 0.5363\n",
            "Epoch 6/10\n",
            "4/4 [==============================] - 4s 1s/step - loss: 0.5839 - accuracy: 1.0000 - val_loss: 0.6876 - val_accuracy: 0.5482\n",
            "Epoch 7/10\n",
            "4/4 [==============================] - 4s 1s/step - loss: 0.5281 - accuracy: 0.9900 - val_loss: 0.6845 - val_accuracy: 0.5493\n",
            "Epoch 8/10\n",
            "4/4 [==============================] - 5s 2s/step - loss: 0.4394 - accuracy: 1.0000 - val_loss: 0.6769 - val_accuracy: 0.5638\n",
            "Epoch 9/10\n",
            "4/4 [==============================] - 4s 1s/step - loss: 0.3001 - accuracy: 1.0000 - val_loss: 0.6559 - val_accuracy: 0.6205\n",
            "Epoch 10/10\n",
            "4/4 [==============================] - 5s 2s/step - loss: 0.1709 - accuracy: 1.0000 - val_loss: 0.6378 - val_accuracy: 0.6307\n",
            "782/782 [==============================] - 16s 15ms/step - loss: 0.6361 - accuracy: 0.6289\n",
            "Test acc: 0.629\n"
          ]
        }
      ],
      "source": [
        "inputs = keras.Input(shape=(None,), dtype=\"int64\")\n",
        "embedded = layers.Embedding(\n",
        "    input_dim=max_tokens, output_dim=256, mask_zero=True)(inputs)\n",
        "x = layers.Bidirectional(layers.LSTM(32))(embedded)\n",
        "x = layers.Dropout(0.5)(x)\n",
        "outputs = layers.Dense(1, activation=\"sigmoid\")(x)\n",
        "model = keras.Model(inputs, outputs)\n",
        "model.compile(optimizer=\"adam\",\n",
        "              loss=\"binary_crossentropy\",\n",
        "              metrics=[\"accuracy\"])\n",
        "model.summary()\n",
        "\n",
        "callbacks = [\n",
        "    keras.callbacks.ModelCheckpoint(\"embeddings_bidir_gru_with_masking.keras\",\n",
        "                                    save_best_only=True)\n",
        "]\n",
        "model.fit(int_train_ds, validation_data=int_val_ds, epochs=10, callbacks=callbacks)\n",
        "model = keras.models.load_model(\"embeddings_bidir_gru_with_masking.keras\")\n",
        "print(f\"Test acc: {model.evaluate(int_test_ds)[1]:.3f}\")"
      ]
    },
    {
      "cell_type": "markdown",
      "metadata": {
        "id": "c-VPe9WRVvK6"
      },
      "source": [
        "#### Using pretrained word embeddings"
      ]
    },
    {
      "cell_type": "code",
      "execution_count": null,
      "metadata": {
        "id": "GhnKSkSkVvK6",
        "colab": {
          "base_uri": "https://localhost:8080/"
        },
        "outputId": "cf0b615e-a6a7-449b-fcaa-4487e8f0cea9"
      },
      "outputs": [
        {
          "output_type": "stream",
          "name": "stdout",
          "text": [
            "--2024-05-04 15:57:46--  http://nlp.stanford.edu/data/glove.6B.zip\n",
            "Resolving nlp.stanford.edu (nlp.stanford.edu)... 171.64.67.140\n",
            "Connecting to nlp.stanford.edu (nlp.stanford.edu)|171.64.67.140|:80... connected.\n",
            "HTTP request sent, awaiting response... 302 Found\n",
            "Location: https://nlp.stanford.edu/data/glove.6B.zip [following]\n",
            "--2024-05-04 15:57:47--  https://nlp.stanford.edu/data/glove.6B.zip\n",
            "Connecting to nlp.stanford.edu (nlp.stanford.edu)|171.64.67.140|:443... connected.\n",
            "HTTP request sent, awaiting response... 301 Moved Permanently\n",
            "Location: https://downloads.cs.stanford.edu/nlp/data/glove.6B.zip [following]\n",
            "--2024-05-04 15:57:47--  https://downloads.cs.stanford.edu/nlp/data/glove.6B.zip\n",
            "Resolving downloads.cs.stanford.edu (downloads.cs.stanford.edu)... 171.64.64.22\n",
            "Connecting to downloads.cs.stanford.edu (downloads.cs.stanford.edu)|171.64.64.22|:443... connected.\n",
            "HTTP request sent, awaiting response... 200 OK\n",
            "Length: 862182613 (822M) [application/zip]\n",
            "Saving to: ‘glove.6B.zip’\n",
            "\n",
            "glove.6B.zip        100%[===================>] 822.24M  5.11MB/s    in 2m 40s  \n",
            "\n",
            "2024-05-04 16:00:27 (5.15 MB/s) - ‘glove.6B.zip’ saved [862182613/862182613]\n",
            "\n"
          ]
        }
      ],
      "source": [
        "!wget http://nlp.stanford.edu/data/glove.6B.zip\n",
        "!unzip -q glove.6B.zip"
      ]
    },
    {
      "cell_type": "markdown",
      "metadata": {
        "id": "YFNfneyTVvK6"
      },
      "source": [
        "**Parsing the GloVe word-embeddings file**"
      ]
    },
    {
      "cell_type": "code",
      "execution_count": null,
      "metadata": {
        "id": "ONb4__dLVvK6",
        "colab": {
          "base_uri": "https://localhost:8080/"
        },
        "outputId": "60c6c73f-a6f4-4a39-9eb4-65f614752438"
      },
      "outputs": [
        {
          "output_type": "stream",
          "name": "stdout",
          "text": [
            "Found 400000 word vectors.\n"
          ]
        }
      ],
      "source": [
        "import numpy as np\n",
        "path_to_glove_file = \"glove.6B.100d.txt\"\n",
        "\n",
        "embeddings_index = {}\n",
        "with open(path_to_glove_file) as f:\n",
        "    for line in f:\n",
        "        word, coefs = line.split(maxsplit=1)\n",
        "        coefs = np.fromstring(coefs, \"f\", sep=\" \")\n",
        "        embeddings_index[word] = coefs\n",
        "\n",
        "print(f\"Found {len(embeddings_index)} word vectors.\")"
      ]
    },
    {
      "cell_type": "markdown",
      "metadata": {
        "id": "l0hnV2fXVvK6"
      },
      "source": [
        "**Preparing the GloVe word-embeddings matrix**"
      ]
    },
    {
      "cell_type": "code",
      "execution_count": null,
      "metadata": {
        "id": "T_uP7g8RVvK6"
      },
      "outputs": [],
      "source": [
        "embedding_dim = 100\n",
        "\n",
        "vocabulary = text_vectorization.get_vocabulary()\n",
        "word_index = dict(zip(vocabulary, range(len(vocabulary))))\n",
        "\n",
        "embedding_matrix = np.zeros((max_tokens, embedding_dim))\n",
        "for word, i in word_index.items():\n",
        "    if i < max_tokens:\n",
        "        embedding_vector = embeddings_index.get(word)\n",
        "    if embedding_vector is not None:\n",
        "        embedding_matrix[i] = embedding_vector"
      ]
    },
    {
      "cell_type": "code",
      "execution_count": null,
      "metadata": {
        "id": "bMTQmZH_VvK6"
      },
      "outputs": [],
      "source": [
        "embedding_layer = layers.Embedding(\n",
        "    max_tokens,\n",
        "    embedding_dim,\n",
        "    embeddings_initializer=keras.initializers.Constant(embedding_matrix),\n",
        "    trainable=False,\n",
        "    mask_zero=True,\n",
        ")"
      ]
    },
    {
      "cell_type": "markdown",
      "metadata": {
        "id": "73MjPxZwVvK6"
      },
      "source": [
        "**Model that uses a pretrained Embedding layer**"
      ]
    },
    {
      "cell_type": "code",
      "execution_count": null,
      "metadata": {
        "id": "2Uq2RK5KVvK6",
        "colab": {
          "base_uri": "https://localhost:8080/"
        },
        "outputId": "4c7cf435-4cc7-4fb2-aae8-58aba8591a70"
      },
      "outputs": [
        {
          "output_type": "stream",
          "name": "stdout",
          "text": [
            "Model: \"model_3\"\n",
            "_________________________________________________________________\n",
            " Layer (type)                Output Shape              Param #   \n",
            "=================================================================\n",
            " input_4 (InputLayer)        [(None, None)]            0         \n",
            "                                                                 \n",
            " embedding_3 (Embedding)     (None, None, 100)         1000000   \n",
            "                                                                 \n",
            " bidirectional_3 (Bidirecti  (None, 64)                34048     \n",
            " onal)                                                           \n",
            "                                                                 \n",
            " dropout_3 (Dropout)         (None, 64)                0         \n",
            "                                                                 \n",
            " dense_3 (Dense)             (None, 1)                 65        \n",
            "                                                                 \n",
            "=================================================================\n",
            "Total params: 1034113 (3.94 MB)\n",
            "Trainable params: 34113 (133.25 KB)\n",
            "Non-trainable params: 1000000 (3.81 MB)\n",
            "_________________________________________________________________\n",
            "Epoch 1/10\n",
            "4/4 [==============================] - 28s 7s/step - loss: 0.7558 - accuracy: 0.4400 - val_loss: 0.6975 - val_accuracy: 0.4987\n",
            "Epoch 2/10\n",
            "4/4 [==============================] - 17s 6s/step - loss: 0.7128 - accuracy: 0.4900 - val_loss: 0.6963 - val_accuracy: 0.5015\n",
            "Epoch 3/10\n",
            "4/4 [==============================] - 14s 5s/step - loss: 0.6842 - accuracy: 0.4900 - val_loss: 0.6939 - val_accuracy: 0.5112\n",
            "Epoch 4/10\n",
            "4/4 [==============================] - 6s 2s/step - loss: 0.7006 - accuracy: 0.4900 - val_loss: 0.6949 - val_accuracy: 0.5150\n",
            "Epoch 5/10\n",
            "4/4 [==============================] - 17s 6s/step - loss: 0.6810 - accuracy: 0.5600 - val_loss: 0.6926 - val_accuracy: 0.5227\n",
            "Epoch 6/10\n",
            "4/4 [==============================] - 17s 6s/step - loss: 0.6685 - accuracy: 0.6000 - val_loss: 0.6900 - val_accuracy: 0.5318\n",
            "Epoch 7/10\n",
            "4/4 [==============================] - 14s 5s/step - loss: 0.6492 - accuracy: 0.6600 - val_loss: 0.6891 - val_accuracy: 0.5343\n",
            "Epoch 8/10\n",
            "4/4 [==============================] - 14s 5s/step - loss: 0.6430 - accuracy: 0.6300 - val_loss: 0.6882 - val_accuracy: 0.5399\n",
            "Epoch 9/10\n",
            "4/4 [==============================] - 20s 7s/step - loss: 0.6561 - accuracy: 0.6300 - val_loss: 0.6875 - val_accuracy: 0.5473\n",
            "Epoch 10/10\n",
            "4/4 [==============================] - 6s 2s/step - loss: 0.6539 - accuracy: 0.6600 - val_loss: 0.6882 - val_accuracy: 0.5482\n",
            "782/782 [==============================] - 18s 18ms/step - loss: 0.6905 - accuracy: 0.5330\n",
            "Test acc: 0.533\n"
          ]
        }
      ],
      "source": [
        "inputs = keras.Input(shape=(None,), dtype=\"int64\")\n",
        "embedded = embedding_layer(inputs)\n",
        "x = layers.Bidirectional(layers.LSTM(32))(embedded)\n",
        "x = layers.Dropout(0.5)(x)\n",
        "outputs = layers.Dense(1, activation=\"sigmoid\")(x)\n",
        "model = keras.Model(inputs, outputs)\n",
        "model.compile(optimizer=\"adam\",\n",
        "              loss=\"binary_crossentropy\",\n",
        "              metrics=[\"accuracy\"])\n",
        "model.summary()\n",
        "\n",
        "callbacks = [\n",
        "    keras.callbacks.ModelCheckpoint(\"glove_embeddings_sequence_model.keras\",\n",
        "                                    save_best_only=True)\n",
        "]\n",
        "model.fit(int_train_ds, validation_data=int_val_ds, epochs=10, callbacks=callbacks)\n",
        "model = keras.models.load_model(\"glove_embeddings_sequence_model.keras\")\n",
        "print(f\"Test acc: {model.evaluate(int_test_ds)[1]:.3f}\")"
      ]
    },
    {
      "cell_type": "markdown",
      "source": [
        "## **Transformer encoder implemented as a subclassed Layer**"
      ],
      "metadata": {
        "id": "cl20QZukWqS6"
      }
    },
    {
      "cell_type": "code",
      "source": [
        "\n",
        "\n",
        "import tensorflow as tf\n",
        "from tensorflow import keras\n",
        "from tensorflow.keras import layers\n",
        "\n",
        "class TransformerEncoder(layers.Layer):\n",
        "    def __init__(self, embed_dim, dense_dim, num_heads, **kwargs):\n",
        "        super().__init__(**kwargs)\n",
        "        self.embed_dim = embed_dim\n",
        "        self.dense_dim = dense_dim\n",
        "        self.num_heads = num_heads\n",
        "        self.attention = layers.MultiHeadAttention(\n",
        "            num_heads=num_heads, key_dim=embed_dim)\n",
        "        self.dense_proj = keras.Sequential(\n",
        "            [layers.Dense(dense_dim, activation=\"relu\"),\n",
        "             layers.Dense(embed_dim),]\n",
        "        )\n",
        "        self.layernorm_1 = layers.LayerNormalization()\n",
        "        self.layernorm_2 = layers.LayerNormalization()\n",
        "\n",
        "    def call(self, inputs, mask=None):\n",
        "        if mask is not None:\n",
        "            mask = mask[:, tf.newaxis, :]\n",
        "        attention_output = self.attention(\n",
        "            inputs, inputs, attention_mask=mask)\n",
        "        proj_input = self.layernorm_1(inputs + attention_output)\n",
        "        proj_output = self.dense_proj(proj_input)\n",
        "        return self.layernorm_2(proj_input + proj_output)\n",
        "\n",
        "    def get_config(self):\n",
        "        config = super().get_config()\n",
        "        config.update({\n",
        "            \"embed_dim\": self.embed_dim,\n",
        "            \"num_heads\": self.num_heads,\n",
        "            \"dense_dim\": self.dense_dim,\n",
        "             })\n",
        "        return config"
      ],
      "metadata": {
        "id": "HdzYQHX4RvW_"
      },
      "execution_count": null,
      "outputs": []
    },
    {
      "cell_type": "markdown",
      "source": [
        "**Using the Transformer encoder for text classification**"
      ],
      "metadata": {
        "id": "pfspIqsJWw5k"
      }
    },
    {
      "cell_type": "code",
      "source": [
        "vocab_size = 10000\n",
        "embed_dim = 256\n",
        "num_heads = 2\n",
        "dense_dim = 32\n",
        "\n",
        "inputs = keras.Input(shape=(None,), dtype=\"int64\")\n",
        "x = layers.Embedding(vocab_size, embed_dim)(inputs)\n",
        "x = TransformerEncoder(embed_dim, dense_dim, num_heads)(x)\n",
        "x = layers.GlobalMaxPooling1D()(x)\n",
        "x = layers.Dropout(0.5)(x)\n",
        "outputs = layers.Dense(1, activation=\"sigmoid\")(x)\n",
        "model = keras.Model(inputs, outputs)\n",
        "model.compile(optimizer=\"adam\",\n",
        "              loss=\"binary_crossentropy\",\n",
        "              metrics=[\"accuracy\"])\n",
        "model.summary()"
      ],
      "metadata": {
        "id": "HEps1JhGW1_6",
        "outputId": "853ec8d0-1f02-44b2-8d1f-4d1f7f8c9445",
        "colab": {
          "base_uri": "https://localhost:8080/"
        }
      },
      "execution_count": null,
      "outputs": [
        {
          "output_type": "stream",
          "name": "stdout",
          "text": [
            "Model: \"model_6\"\n",
            "_________________________________________________________________\n",
            " Layer (type)                Output Shape              Param #   \n",
            "=================================================================\n",
            " input_7 (InputLayer)        [(None, None)]            0         \n",
            "                                                                 \n",
            " embedding_9 (Embedding)     (None, None, 256)         2560000   \n",
            "                                                                 \n",
            " transformer_encoder_2 (Tra  (None, None, 256)         543776    \n",
            " nsformerEncoder)                                                \n",
            "                                                                 \n",
            " global_max_pooling1d_2 (Gl  (None, 256)               0         \n",
            " obalMaxPooling1D)                                               \n",
            "                                                                 \n",
            " dropout_6 (Dropout)         (None, 256)               0         \n",
            "                                                                 \n",
            " dense_16 (Dense)            (None, 1)                 257       \n",
            "                                                                 \n",
            "=================================================================\n",
            "Total params: 3104033 (11.84 MB)\n",
            "Trainable params: 3104033 (11.84 MB)\n",
            "Non-trainable params: 0 (0.00 Byte)\n",
            "_________________________________________________________________\n"
          ]
        }
      ]
    },
    {
      "cell_type": "markdown",
      "source": [
        "**Training and evaluating the Transformer encoder based model**"
      ],
      "metadata": {
        "id": "Rm8cUQTYW9FH"
      }
    },
    {
      "cell_type": "code",
      "source": [
        "callbacks = [\n",
        "    keras.callbacks.ModelCheckpoint(\"transformer_encoder.keras\",\n",
        "                                    save_best_only=True)\n",
        "]\n",
        "model.fit(int_train_ds, validation_data=int_val_ds, epochs=20, callbacks=callbacks)\n",
        "model = keras.models.load_model(\n",
        "    \"transformer_encoder.keras\",\n",
        "    custom_objects={\"TransformerEncoder\": TransformerEncoder})\n",
        "print(f\"Test acc: {model.evaluate(int_test_ds)[1]:.3f}\")"
      ],
      "metadata": {
        "id": "BqRKxeWRXA5s",
        "outputId": "dd0bcc7e-81ea-4513-9d46-7b79cef70e28",
        "colab": {
          "base_uri": "https://localhost:8080/"
        }
      },
      "execution_count": null,
      "outputs": [
        {
          "output_type": "stream",
          "name": "stdout",
          "text": [
            "Epoch 1/20\n",
            "4/4 [==============================] - 10s 2s/step - loss: 2.4178 - accuracy: 0.4200 - val_loss: 0.6934 - val_accuracy: 0.5437\n",
            "Epoch 2/20\n",
            "4/4 [==============================] - 4s 1s/step - loss: 1.2271 - accuracy: 0.5300 - val_loss: 0.7041 - val_accuracy: 0.5596\n",
            "Epoch 3/20\n",
            "4/4 [==============================] - 6s 2s/step - loss: 0.8471 - accuracy: 0.6800 - val_loss: 1.0610 - val_accuracy: 0.5004\n",
            "Epoch 4/20\n",
            "4/4 [==============================] - 6s 2s/step - loss: 0.5489 - accuracy: 0.7800 - val_loss: 0.6332 - val_accuracy: 0.6339\n",
            "Epoch 5/20\n",
            "4/4 [==============================] - 4s 1s/step - loss: 0.5372 - accuracy: 0.7800 - val_loss: 0.7050 - val_accuracy: 0.5623\n",
            "Epoch 6/20\n",
            "4/4 [==============================] - 4s 1s/step - loss: 0.4003 - accuracy: 0.8800 - val_loss: 0.7193 - val_accuracy: 0.5669\n",
            "Epoch 7/20\n",
            "4/4 [==============================] - 4s 1s/step - loss: 0.2374 - accuracy: 0.9100 - val_loss: 0.7210 - val_accuracy: 0.5758\n",
            "Epoch 8/20\n",
            "4/4 [==============================] - 6s 2s/step - loss: 0.2135 - accuracy: 0.9000 - val_loss: 0.6190 - val_accuracy: 0.6577\n",
            "Epoch 9/20\n",
            "4/4 [==============================] - 5s 2s/step - loss: 0.1753 - accuracy: 0.9200 - val_loss: 0.6086 - val_accuracy: 0.6624\n",
            "Epoch 10/20\n",
            "4/4 [==============================] - 6s 2s/step - loss: 0.1852 - accuracy: 0.9200 - val_loss: 0.7828 - val_accuracy: 0.5618\n",
            "Epoch 11/20\n",
            "4/4 [==============================] - 4s 1s/step - loss: 0.1226 - accuracy: 0.9400 - val_loss: 0.8156 - val_accuracy: 0.5595\n",
            "Epoch 12/20\n",
            "4/4 [==============================] - 4s 1s/step - loss: 0.0919 - accuracy: 0.9600 - val_loss: 0.6748 - val_accuracy: 0.6290\n",
            "Epoch 13/20\n",
            "4/4 [==============================] - 4s 1s/step - loss: 0.0875 - accuracy: 0.9500 - val_loss: 0.6424 - val_accuracy: 0.6421\n",
            "Epoch 14/20\n",
            "4/4 [==============================] - 6s 2s/step - loss: 0.1105 - accuracy: 0.9800 - val_loss: 0.6438 - val_accuracy: 0.6444\n",
            "Epoch 15/20\n",
            "4/4 [==============================] - 5s 1s/step - loss: 0.0571 - accuracy: 0.9800 - val_loss: 0.6437 - val_accuracy: 0.6460\n",
            "Epoch 16/20\n",
            "4/4 [==============================] - 6s 2s/step - loss: 0.0223 - accuracy: 1.0000 - val_loss: 0.6709 - val_accuracy: 0.6368\n",
            "Epoch 17/20\n",
            "4/4 [==============================] - 6s 2s/step - loss: 0.0598 - accuracy: 0.9800 - val_loss: 0.6538 - val_accuracy: 0.6453\n",
            "Epoch 18/20\n",
            "4/4 [==============================] - 6s 2s/step - loss: 0.0125 - accuracy: 1.0000 - val_loss: 0.6082 - val_accuracy: 0.6700\n",
            "Epoch 19/20\n",
            "4/4 [==============================] - 6s 2s/step - loss: 0.0114 - accuracy: 1.0000 - val_loss: 0.6057 - val_accuracy: 0.6699\n",
            "Epoch 20/20\n",
            "4/4 [==============================] - 4s 1s/step - loss: 0.0302 - accuracy: 0.9900 - val_loss: 0.6032 - val_accuracy: 0.6725\n",
            "782/782 [==============================] - 12s 15ms/step - loss: 0.5977 - accuracy: 0.6822\n",
            "Test acc: 0.682\n"
          ]
        }
      ]
    },
    {
      "cell_type": "markdown",
      "source": [
        "Using positional encoding to re-inject order information"
      ],
      "metadata": {
        "id": "YOrQFdw1XD8r"
      }
    },
    {
      "cell_type": "markdown",
      "source": [
        "**Implementing positional embedding as a subclassed layer**"
      ],
      "metadata": {
        "id": "il7xB-XMXLW9"
      }
    },
    {
      "cell_type": "code",
      "source": [
        "class PositionalEmbedding(layers.Layer):\n",
        "    def __init__(self, sequence_length, input_dim, output_dim, **kwargs):\n",
        "        super().__init__(**kwargs)\n",
        "        self.token_embeddings = layers.Embedding(\n",
        "            input_dim=input_dim, output_dim=output_dim)\n",
        "        self.position_embeddings = layers.Embedding(\n",
        "            input_dim=sequence_length, output_dim=output_dim)\n",
        "        self.sequence_length = sequence_length\n",
        "        self.input_dim = input_dim\n",
        "        self.output_dim = output_dim\n",
        "\n",
        "    def call(self, inputs):\n",
        "        length = tf.shape(inputs)[-1]\n",
        "        positions = tf.range(start=0, limit=length, delta=1)\n",
        "        embedded_tokens = self.token_embeddings(inputs)\n",
        "        embedded_positions = self.position_embeddings(positions)\n",
        "        return embedded_tokens + embedded_positions\n",
        "\n",
        "    def compute_mask(self, inputs, mask=None):\n",
        "        return tf.math.not_equal(inputs, 0)\n",
        "\n",
        "    def get_config(self):\n",
        "        config = super().get_config()\n",
        "        config.update({\n",
        "            \"output_dim\": self.output_dim,\n",
        "            \"sequence_length\": self.sequence_length,\n",
        "            \"input_dim\": self.input_dim,\n",
        "        })\n",
        "        return config"
      ],
      "metadata": {
        "id": "eNScUb8kXQRJ"
      },
      "execution_count": null,
      "outputs": []
    },
    {
      "cell_type": "markdown",
      "source": [
        "Putting it all together: A text-classification Transformer"
      ],
      "metadata": {
        "id": "X0xebwVvXVeB"
      }
    },
    {
      "cell_type": "markdown",
      "source": [
        "**Combining the Transformer encoder with positional embedding**"
      ],
      "metadata": {
        "id": "_ecYdi2QXc7t"
      }
    },
    {
      "cell_type": "code",
      "source": [
        "vocab_size = 10000\n",
        "sequence_length = 600\n",
        "embed_dim = 256\n",
        "num_heads = 2\n",
        "dense_dim = 32\n",
        "\n",
        "inputs = keras.Input(shape=(None,), dtype=\"int64\")\n",
        "x = PositionalEmbedding(sequence_length, vocab_size, embed_dim)(inputs)\n",
        "x = TransformerEncoder(embed_dim, dense_dim, num_heads)(x)\n",
        "x = layers.GlobalMaxPooling1D()(x)\n",
        "x = layers.Dropout(0.5)(x)\n",
        "outputs = layers.Dense(1, activation=\"sigmoid\")(x)\n",
        "model = keras.Model(inputs, outputs)\n",
        "model.compile(optimizer=\"adam\",\n",
        "              loss=\"binary_crossentropy\",\n",
        "              metrics=[\"accuracy\"])\n",
        "model.summary()\n",
        "\n",
        "callbacks = [\n",
        "    keras.callbacks.ModelCheckpoint(\"full_transformer_encoder.keras\",\n",
        "                                    save_best_only=True)\n",
        "]\n",
        "model.fit(int_train_ds, validation_data=int_val_ds, epochs=20, callbacks=callbacks)\n",
        "model = keras.models.load_model(\n",
        "    \"full_transformer_encoder.keras\",\n",
        "    custom_objects={\"TransformerEncoder\": TransformerEncoder,\n",
        "                    \"PositionalEmbedding\": PositionalEmbedding})\n",
        "print(f\"Test acc: {model.evaluate(int_test_ds)[1]:.3f}\")"
      ],
      "metadata": {
        "id": "-JAISAB0XU-D",
        "outputId": "ccb8fb27-d08b-407b-8634-b6cf50568c60",
        "colab": {
          "base_uri": "https://localhost:8080/"
        }
      },
      "execution_count": null,
      "outputs": [
        {
          "output_type": "stream",
          "name": "stdout",
          "text": [
            "Model: \"model_7\"\n",
            "_________________________________________________________________\n",
            " Layer (type)                Output Shape              Param #   \n",
            "=================================================================\n",
            " input_8 (InputLayer)        [(None, None)]            0         \n",
            "                                                                 \n",
            " positional_embedding_1 (Po  (None, None, 256)         2713600   \n",
            " sitionalEmbedding)                                              \n",
            "                                                                 \n",
            " transformer_encoder_3 (Tra  (None, None, 256)         543776    \n",
            " nsformerEncoder)                                                \n",
            "                                                                 \n",
            " global_max_pooling1d_3 (Gl  (None, 256)               0         \n",
            " obalMaxPooling1D)                                               \n",
            "                                                                 \n",
            " dropout_7 (Dropout)         (None, 256)               0         \n",
            "                                                                 \n",
            " dense_21 (Dense)            (None, 1)                 257       \n",
            "                                                                 \n",
            "=================================================================\n",
            "Total params: 3257633 (12.43 MB)\n",
            "Trainable params: 3257633 (12.43 MB)\n",
            "Non-trainable params: 0 (0.00 Byte)\n",
            "_________________________________________________________________\n",
            "Epoch 1/20\n",
            "4/4 [==============================] - 11s 2s/step - loss: 1.8234 - accuracy: 0.5000 - val_loss: 1.8001 - val_accuracy: 0.5000\n",
            "Epoch 2/20\n",
            "4/4 [==============================] - 5s 2s/step - loss: 1.5113 - accuracy: 0.5200 - val_loss: 0.7756 - val_accuracy: 0.5038\n",
            "Epoch 3/20\n",
            "4/4 [==============================] - 6s 2s/step - loss: 0.6251 - accuracy: 0.7600 - val_loss: 1.0271 - val_accuracy: 0.5001\n",
            "Epoch 4/20\n",
            "4/4 [==============================] - 6s 2s/step - loss: 0.6064 - accuracy: 0.7400 - val_loss: 0.7013 - val_accuracy: 0.5360\n",
            "Epoch 5/20\n",
            "4/4 [==============================] - 4s 1s/step - loss: 0.5178 - accuracy: 0.8400 - val_loss: 1.2761 - val_accuracy: 0.5000\n",
            "Epoch 6/20\n",
            "4/4 [==============================] - 6s 2s/step - loss: 0.6382 - accuracy: 0.8000 - val_loss: 0.8972 - val_accuracy: 0.5004\n",
            "Epoch 7/20\n",
            "4/4 [==============================] - 6s 2s/step - loss: 0.1756 - accuracy: 0.9100 - val_loss: 0.6824 - val_accuracy: 0.5682\n",
            "Epoch 8/20\n",
            "4/4 [==============================] - 4s 1s/step - loss: 0.2277 - accuracy: 0.8900 - val_loss: 0.7662 - val_accuracy: 0.5176\n",
            "Epoch 9/20\n",
            "4/4 [==============================] - 6s 2s/step - loss: 0.3540 - accuracy: 0.8600 - val_loss: 0.6703 - val_accuracy: 0.5916\n",
            "Epoch 10/20\n",
            "4/4 [==============================] - 6s 2s/step - loss: 0.0730 - accuracy: 0.9800 - val_loss: 0.7518 - val_accuracy: 0.5251\n",
            "Epoch 11/20\n",
            "4/4 [==============================] - 5s 1s/step - loss: 0.1405 - accuracy: 0.9600 - val_loss: 0.7164 - val_accuracy: 0.5466\n",
            "Epoch 12/20\n",
            "4/4 [==============================] - 5s 2s/step - loss: 0.0622 - accuracy: 0.9800 - val_loss: 0.6719 - val_accuracy: 0.5927\n",
            "Epoch 13/20\n",
            "4/4 [==============================] - 6s 2s/step - loss: 0.0551 - accuracy: 0.9800 - val_loss: 0.6715 - val_accuracy: 0.5857\n",
            "Epoch 14/20\n",
            "4/4 [==============================] - 6s 2s/step - loss: 0.0627 - accuracy: 0.9700 - val_loss: 0.8258 - val_accuracy: 0.5273\n",
            "Epoch 15/20\n",
            "4/4 [==============================] - 5s 2s/step - loss: 0.0914 - accuracy: 0.9700 - val_loss: 0.6873 - val_accuracy: 0.5810\n",
            "Epoch 16/20\n",
            "4/4 [==============================] - 6s 2s/step - loss: 0.0376 - accuracy: 0.9900 - val_loss: 0.6935 - val_accuracy: 0.5978\n",
            "Epoch 17/20\n",
            "4/4 [==============================] - 4s 1s/step - loss: 0.0503 - accuracy: 0.9900 - val_loss: 0.6900 - val_accuracy: 0.6035\n",
            "Epoch 18/20\n",
            "4/4 [==============================] - 5s 2s/step - loss: 0.0199 - accuracy: 0.9900 - val_loss: 0.6570 - val_accuracy: 0.6276\n",
            "Epoch 19/20\n",
            "4/4 [==============================] - 5s 2s/step - loss: 0.0050 - accuracy: 1.0000 - val_loss: 0.6606 - val_accuracy: 0.6219\n",
            "Epoch 20/20\n",
            "4/4 [==============================] - 5s 1s/step - loss: 0.0266 - accuracy: 0.9900 - val_loss: 0.6634 - val_accuracy: 0.6233\n",
            "782/782 [==============================] - 12s 15ms/step - loss: 0.6650 - accuracy: 0.6193\n",
            "Test acc: 0.619\n"
          ]
        }
      ]
    }
  ],
  "metadata": {
    "colab": {
      "provenance": [],
      "gpuType": "T4"
    },
    "kernelspec": {
      "display_name": "Python 3",
      "name": "python3"
    },
    "language_info": {
      "codemirror_mode": {
        "name": "ipython",
        "version": 3
      },
      "file_extension": ".py",
      "mimetype": "text/x-python",
      "name": "python",
      "nbconvert_exporter": "python",
      "pygments_lexer": "ipython3",
      "version": "3.7.0"
    },
    "accelerator": "GPU"
  },
  "nbformat": 4,
  "nbformat_minor": 0
}