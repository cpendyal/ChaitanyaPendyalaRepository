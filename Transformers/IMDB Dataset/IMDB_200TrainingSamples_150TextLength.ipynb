{
  "cells": [
    {
      "cell_type": "markdown",
      "metadata": {
        "id": "0RUw8qf9VvKy"
      },
      "source": [
        "This is a companion notebook for the book [Deep Learning with Python, Second Edition](https://www.manning.com/books/deep-learning-with-python-second-edition?a_aid=keras&a_bid=76564dff). For readability, it only contains runnable code blocks and section titles, and omits everything else in the book: text paragraphs, figures, and pseudocode.\n",
        "\n",
        "**If you want to be able to follow what's going on, I recommend reading the notebook side by side with your copy of the book.**\n",
        "\n",
        "This notebook was generated for TensorFlow 2.6."
      ]
    },
    {
      "cell_type": "markdown",
      "metadata": {
        "id": "AGDCzQ73VvK0"
      },
      "source": [
        "### Processing words as a sequence: The sequence model approach"
      ]
    },
    {
      "cell_type": "markdown",
      "metadata": {
        "id": "i9wZZIaEVvK0"
      },
      "source": [
        "#### A first practical example"
      ]
    },
    {
      "cell_type": "markdown",
      "metadata": {
        "id": "mJYAfPexVvK0"
      },
      "source": [
        "**Downloading the data**"
      ]
    },
    {
      "cell_type": "code",
      "execution_count": null,
      "metadata": {
        "id": "Cgf6PTwiVvK1",
        "outputId": "fb02557b-de2a-45e8-aabb-daf79f6087bb",
        "colab": {
          "base_uri": "https://localhost:8080/"
        }
      },
      "outputs": [
        {
          "output_type": "stream",
          "name": "stdout",
          "text": [
            "  % Total    % Received % Xferd  Average Speed   Time    Time     Time  Current\n",
            "                                 Dload  Upload   Total   Spent    Left  Speed\n",
            "100 80.2M  100 80.2M    0     0  5081k      0  0:00:16  0:00:16 --:--:-- 7485k\n"
          ]
        }
      ],
      "source": [
        "!curl -O https://ai.stanford.edu/~amaas/data/sentiment/aclImdb_v1.tar.gz\n",
        "!tar -xf aclImdb_v1.tar.gz\n",
        "!rm -r aclImdb/train/unsup"
      ]
    },
    {
      "cell_type": "markdown",
      "metadata": {
        "id": "qskkHdUfVvK1"
      },
      "source": [
        "**Preparing the data**"
      ]
    },
    {
      "cell_type": "code",
      "execution_count": null,
      "metadata": {
        "id": "ZNX-OhpXVvK2",
        "outputId": "4cf68ade-51a9-4cf2-e980-8790f641a553",
        "colab": {
          "base_uri": "https://localhost:8080/"
        }
      },
      "outputs": [
        {
          "output_type": "stream",
          "name": "stdout",
          "text": [
            "Found 200 files belonging to 2 classes.\n",
            "Found 10000 files belonging to 2 classes.\n",
            "Found 25000 files belonging to 2 classes.\n"
          ]
        }
      ],
      "source": [
        "import os, pathlib, shutil, random\n",
        "from tensorflow import keras\n",
        "batch_size = 32\n",
        "base_dir = pathlib.Path(\"aclImdb\")\n",
        "val_dir = base_dir / \"val\"\n",
        "train_dir = base_dir / \"train\"\n",
        "excess_dir = base_dir / \"excess\"\n",
        "for category in (\"neg\", \"pos\"):\n",
        "#    os.makedirs(val_dir / category)\n",
        "#    os.makedirs(excess_dir / category)\n",
        "#    files = os.listdir(train_dir / category)\n",
        "#    random.Random(1337).shuffle(files)\n",
        "#    num_val_samples = 5000\n",
        "#    val_files = files[-num_val_samples:]\n",
        "#    for fname in val_files:\n",
        "#        shutil.move(train_dir / category / fname,\n",
        "#                    val_dir / category / fname)\n",
        "\n",
        "    files = os.listdir(train_dir / category)\n",
        "    random.Random(1338).shuffle(files)\n",
        "    num_ex_samples = 50\n",
        "    ex_files = files[-num_ex_samples:]\n",
        "    for fname in ex_files:\n",
        "        shutil.move(train_dir / category / fname,\n",
        "                    excess_dir / category / fname)\n",
        "\n",
        "train_ds = keras.utils.text_dataset_from_directory(\n",
        "    \"aclImdb/excess\", batch_size=batch_size\n",
        ")\n",
        "val_ds = keras.utils.text_dataset_from_directory(\n",
        "    \"aclImdb/val\", batch_size=batch_size\n",
        ")\n",
        "test_ds = keras.utils.text_dataset_from_directory(\n",
        "    \"aclImdb/test\", batch_size=batch_size\n",
        ")\n",
        "text_only_train_ds = train_ds.map(lambda x, y: x)"
      ]
    },
    {
      "cell_type": "code",
      "source": [
        "\n",
        "!ls -al /content/aclImdb/excess/neg/ | wc\n",
        "!ls -al /content/aclImdb/excess/pos/ | wc\n",
        "!ls -al /content/aclImdb/val/pos/ | wc\n",
        "!rm -rf /content/aclImdb1/\n",
        "!rm -rf /content/aclImdb/"
      ],
      "metadata": {
        "id": "5A4bB94KbPqH",
        "outputId": "f651de25-e478-4426-b83a-4595effa9ead",
        "colab": {
          "base_uri": "https://localhost:8080/"
        }
      },
      "execution_count": null,
      "outputs": [
        {
          "output_type": "stream",
          "name": "stdout",
          "text": [
            "     53     470    2702\n",
            "     53     470    2722\n",
            "  10003   90020  545011\n"
          ]
        }
      ]
    },
    {
      "cell_type": "markdown",
      "metadata": {
        "id": "PJf8R_-eVvK2"
      },
      "source": [
        "**Preparing integer sequence datasets**"
      ]
    },
    {
      "cell_type": "code",
      "execution_count": null,
      "metadata": {
        "id": "cH2ALGr_VvK2"
      },
      "outputs": [],
      "source": [
        "from tensorflow.keras import layers\n",
        "\n",
        "max_length = 150\n",
        "max_tokens = 10000\n",
        "text_vectorization = layers.TextVectorization(\n",
        "    max_tokens=max_tokens,\n",
        "    output_mode=\"int\",\n",
        "    output_sequence_length=max_length,\n",
        ")\n",
        "text_vectorization.adapt(text_only_train_ds)\n",
        "\n",
        "int_train_ds = train_ds.map(\n",
        "    lambda x, y: (text_vectorization(x), y),\n",
        "    num_parallel_calls=4)\n",
        "int_val_ds = val_ds.map(\n",
        "    lambda x, y: (text_vectorization(x), y),\n",
        "    num_parallel_calls=4)\n",
        "int_test_ds = test_ds.map(\n",
        "    lambda x, y: (text_vectorization(x), y),\n",
        "    num_parallel_calls=4)"
      ]
    },
    {
      "cell_type": "markdown",
      "metadata": {
        "id": "n1KD7sSoVvK3"
      },
      "source": [
        "**A sequence model built on one-hot encoded vector sequences**"
      ]
    },
    {
      "cell_type": "code",
      "execution_count": null,
      "metadata": {
        "id": "D7o7lmIRVvK3",
        "colab": {
          "base_uri": "https://localhost:8080/"
        },
        "outputId": "1bc77a70-a49b-470c-f72f-746d4486e3c7"
      },
      "outputs": [
        {
          "output_type": "stream",
          "name": "stdout",
          "text": [
            "Model: \"model\"\n",
            "_________________________________________________________________\n",
            " Layer (type)                Output Shape              Param #   \n",
            "=================================================================\n",
            " input_1 (InputLayer)        [(None, None)]            0         \n",
            "                                                                 \n",
            " tf.one_hot (TFOpLambda)     (None, None, 10000)       0         \n",
            "                                                                 \n",
            " bidirectional (Bidirection  (None, 64)                2568448   \n",
            " al)                                                             \n",
            "                                                                 \n",
            " dropout (Dropout)           (None, 64)                0         \n",
            "                                                                 \n",
            " dense (Dense)               (None, 1)                 65        \n",
            "                                                                 \n",
            "=================================================================\n",
            "Total params: 2568513 (9.80 MB)\n",
            "Trainable params: 2568513 (9.80 MB)\n",
            "Non-trainable params: 0 (0.00 Byte)\n",
            "_________________________________________________________________\n"
          ]
        }
      ],
      "source": [
        "import tensorflow as tf\n",
        "inputs = keras.Input(shape=(None,), dtype=\"int64\")\n",
        "embedded = tf.one_hot(inputs, depth=max_tokens)\n",
        "x = layers.Bidirectional(layers.LSTM(32))(embedded)\n",
        "x = layers.Dropout(0.5)(x)\n",
        "outputs = layers.Dense(1, activation=\"sigmoid\")(x)\n",
        "model = keras.Model(inputs, outputs)\n",
        "model.compile(optimizer=\"adam\",\n",
        "              loss=\"binary_crossentropy\",\n",
        "              metrics=[\"accuracy\"])\n",
        "model.summary()"
      ]
    },
    {
      "cell_type": "markdown",
      "metadata": {
        "id": "iCp2KCjrVvK3"
      },
      "source": [
        "**Training a first basic sequence model**"
      ]
    },
    {
      "cell_type": "code",
      "execution_count": null,
      "metadata": {
        "id": "kPK-nrBnVvK3",
        "colab": {
          "base_uri": "https://localhost:8080/"
        },
        "outputId": "d48383a3-2af7-4043-f5e4-861e5d584609"
      },
      "outputs": [
        {
          "output_type": "stream",
          "name": "stdout",
          "text": [
            "Epoch 1/10\n",
            "4/4 [==============================] - 9s 2s/step - loss: 0.6587 - accuracy: 0.8500 - val_loss: 0.6931 - val_accuracy: 0.4989\n",
            "Epoch 2/10\n",
            "4/4 [==============================] - 4s 1s/step - loss: 0.6466 - accuracy: 0.8400 - val_loss: 0.6937 - val_accuracy: 0.4973\n",
            "Epoch 3/10\n",
            "4/4 [==============================] - 3s 941ms/step - loss: 0.6142 - accuracy: 0.8800 - val_loss: 0.6953 - val_accuracy: 0.4957\n",
            "Epoch 4/10\n",
            "4/4 [==============================] - 3s 862ms/step - loss: 0.5728 - accuracy: 0.9000 - val_loss: 0.6986 - val_accuracy: 0.4963\n",
            "Epoch 5/10\n",
            "4/4 [==============================] - 6s 2s/step - loss: 0.5263 - accuracy: 0.8800 - val_loss: 0.7069 - val_accuracy: 0.4983\n",
            "Epoch 6/10\n",
            "4/4 [==============================] - 5s 2s/step - loss: 0.4284 - accuracy: 0.9100 - val_loss: 0.7335 - val_accuracy: 0.5150\n",
            "Epoch 7/10\n",
            "4/4 [==============================] - 3s 975ms/step - loss: 0.3195 - accuracy: 0.9500 - val_loss: 0.7324 - val_accuracy: 0.5322\n",
            "Epoch 8/10\n",
            "4/4 [==============================] - 3s 974ms/step - loss: 0.2125 - accuracy: 0.9900 - val_loss: 0.8137 - val_accuracy: 0.5644\n",
            "Epoch 9/10\n",
            "4/4 [==============================] - 3s 851ms/step - loss: 0.1526 - accuracy: 0.9900 - val_loss: 0.8438 - val_accuracy: 0.5815\n",
            "Epoch 10/10\n",
            "4/4 [==============================] - 5s 2s/step - loss: 0.0947 - accuracy: 1.0000 - val_loss: 0.9545 - val_accuracy: 0.5761\n",
            "782/782 [==============================] - 11s 12ms/step - loss: 0.6931 - accuracy: 0.4953\n",
            "Test acc: 0.495\n"
          ]
        }
      ],
      "source": [
        "callbacks = [\n",
        "    keras.callbacks.ModelCheckpoint(\"one_hot_bidir_lstm.keras\",\n",
        "                                    save_best_only=True)\n",
        "]\n",
        "model.fit(int_train_ds, validation_data=int_val_ds, epochs=10, callbacks=callbacks)\n",
        "model = keras.models.load_model(\"one_hot_bidir_lstm.keras\")\n",
        "print(f\"Test acc: {model.evaluate(int_test_ds)[1]:.3f}\")"
      ]
    },
    {
      "cell_type": "markdown",
      "metadata": {
        "id": "H_TIf0FHVvK4"
      },
      "source": [
        "#### Understanding word embeddings"
      ]
    },
    {
      "cell_type": "markdown",
      "metadata": {
        "id": "m1mhW9dIVvK4"
      },
      "source": [
        "#### Learning word embeddings with the Embedding layer"
      ]
    },
    {
      "cell_type": "markdown",
      "metadata": {
        "id": "NOaineC8VvK4"
      },
      "source": [
        "**Instantiating an `Embedding` layer**"
      ]
    },
    {
      "cell_type": "code",
      "execution_count": null,
      "metadata": {
        "id": "P5htm57OVvK5"
      },
      "outputs": [],
      "source": [
        "embedding_layer = layers.Embedding(input_dim=max_tokens, output_dim=256)"
      ]
    },
    {
      "cell_type": "markdown",
      "metadata": {
        "id": "ApyfdGMMVvK5"
      },
      "source": [
        "**Model that uses an `Embedding` layer trained from scratch**"
      ]
    },
    {
      "cell_type": "code",
      "execution_count": null,
      "metadata": {
        "id": "QFlxPYS3VvK5",
        "colab": {
          "base_uri": "https://localhost:8080/"
        },
        "outputId": "0bc01757-ca20-4e6a-fd5e-029098043843"
      },
      "outputs": [
        {
          "output_type": "stream",
          "name": "stdout",
          "text": [
            "Model: \"model_7\"\n",
            "_________________________________________________________________\n",
            " Layer (type)                Output Shape              Param #   \n",
            "=================================================================\n",
            " input_8 (InputLayer)        [(None, None)]            0         \n",
            "                                                                 \n",
            " embedding_8 (Embedding)     (None, None, 256)         2560000   \n",
            "                                                                 \n",
            " bidirectional_7 (Bidirecti  (None, 64)                73984     \n",
            " onal)                                                           \n",
            "                                                                 \n",
            " dropout_7 (Dropout)         (None, 64)                0         \n",
            "                                                                 \n",
            " dense_7 (Dense)             (None, 1)                 65        \n",
            "                                                                 \n",
            "=================================================================\n",
            "Total params: 2634049 (10.05 MB)\n",
            "Trainable params: 2634049 (10.05 MB)\n",
            "Non-trainable params: 0 (0.00 Byte)\n",
            "_________________________________________________________________\n",
            "Epoch 1/10\n",
            "4/4 [==============================] - 12s 2s/step - loss: 0.6963 - accuracy: 0.4500 - val_loss: 0.6926 - val_accuracy: 0.5134\n",
            "Epoch 2/10\n",
            "4/4 [==============================] - 4s 1s/step - loss: 0.6732 - accuracy: 0.8300 - val_loss: 0.6928 - val_accuracy: 0.5009\n",
            "Epoch 3/10\n",
            "4/4 [==============================] - 3s 972ms/step - loss: 0.6578 - accuracy: 0.8500 - val_loss: 0.6938 - val_accuracy: 0.5091\n",
            "Epoch 4/10\n",
            "4/4 [==============================] - 3s 848ms/step - loss: 0.6336 - accuracy: 0.8400 - val_loss: 0.6961 - val_accuracy: 0.5125\n",
            "Epoch 5/10\n",
            "4/4 [==============================] - 4s 1s/step - loss: 0.5987 - accuracy: 0.8600 - val_loss: 0.6975 - val_accuracy: 0.5058\n",
            "Epoch 6/10\n",
            "4/4 [==============================] - 6s 2s/step - loss: 0.5573 - accuracy: 0.9000 - val_loss: 0.6958 - val_accuracy: 0.5063\n",
            "Epoch 7/10\n",
            "4/4 [==============================] - 6s 2s/step - loss: 0.4558 - accuracy: 0.9400 - val_loss: 0.7087 - val_accuracy: 0.5365\n",
            "Epoch 8/10\n",
            "4/4 [==============================] - 3s 977ms/step - loss: 0.3317 - accuracy: 0.9900 - val_loss: 0.7246 - val_accuracy: 0.5791\n",
            "Epoch 9/10\n",
            "4/4 [==============================] - 6s 2s/step - loss: 0.2233 - accuracy: 1.0000 - val_loss: 0.7960 - val_accuracy: 0.5939\n",
            "Epoch 10/10\n",
            "4/4 [==============================] - 3s 1s/step - loss: 0.1905 - accuracy: 1.0000 - val_loss: 0.8769 - val_accuracy: 0.5761\n",
            "782/782 [==============================] - 10s 11ms/step - loss: 0.6928 - accuracy: 0.5067\n",
            "Test acc: 0.507\n"
          ]
        }
      ],
      "source": [
        "inputs = keras.Input(shape=(None,), dtype=\"int64\")\n",
        "embedded = layers.Embedding(input_dim=max_tokens, output_dim=256)(inputs)\n",
        "x = layers.Bidirectional(layers.LSTM(32))(embedded)\n",
        "x = layers.Dropout(0.5)(x)\n",
        "outputs = layers.Dense(1, activation=\"sigmoid\")(x)\n",
        "model = keras.Model(inputs, outputs)\n",
        "model.compile(optimizer=\"adam\",\n",
        "              loss=\"binary_crossentropy\",\n",
        "              metrics=[\"accuracy\"])\n",
        "model.summary()\n",
        "\n",
        "callbacks = [\n",
        "    keras.callbacks.ModelCheckpoint(\"embeddings_bidir_gru.keras\",\n",
        "                                    save_best_only=True)\n",
        "]\n",
        "model.fit(int_train_ds, validation_data=int_val_ds, epochs=10, callbacks=callbacks)\n",
        "model = keras.models.load_model(\"embeddings_bidir_gru.keras\")\n",
        "print(f\"Test acc: {model.evaluate(int_test_ds)[1]:.3f}\")"
      ]
    },
    {
      "cell_type": "markdown",
      "metadata": {
        "id": "51XoyrViVvK5"
      },
      "source": [
        "#### Understanding padding and masking"
      ]
    },
    {
      "cell_type": "markdown",
      "metadata": {
        "id": "dqfvUFbEVvK5"
      },
      "source": [
        "**Using an `Embedding` layer with masking enabled**"
      ]
    },
    {
      "cell_type": "code",
      "execution_count": null,
      "metadata": {
        "id": "5USW5v2rVvK5",
        "colab": {
          "base_uri": "https://localhost:8080/"
        },
        "outputId": "aa3a344e-d4b2-452c-e2bd-b9a3dd9cf324"
      },
      "outputs": [
        {
          "output_type": "stream",
          "name": "stdout",
          "text": [
            "Model: \"model_8\"\n",
            "_________________________________________________________________\n",
            " Layer (type)                Output Shape              Param #   \n",
            "=================================================================\n",
            " input_9 (InputLayer)        [(None, None)]            0         \n",
            "                                                                 \n",
            " embedding_9 (Embedding)     (None, None, 256)         2560000   \n",
            "                                                                 \n",
            " bidirectional_8 (Bidirecti  (None, 64)                73984     \n",
            " onal)                                                           \n",
            "                                                                 \n",
            " dropout_8 (Dropout)         (None, 64)                0         \n",
            "                                                                 \n",
            " dense_8 (Dense)             (None, 1)                 65        \n",
            "                                                                 \n",
            "=================================================================\n",
            "Total params: 2634049 (10.05 MB)\n",
            "Trainable params: 2634049 (10.05 MB)\n",
            "Non-trainable params: 0 (0.00 Byte)\n",
            "_________________________________________________________________\n",
            "Epoch 1/10\n",
            "4/4 [==============================] - 24s 5s/step - loss: 0.6952 - accuracy: 0.4500 - val_loss: 0.6931 - val_accuracy: 0.5036\n",
            "Epoch 2/10\n",
            "4/4 [==============================] - 3s 1s/step - loss: 0.6729 - accuracy: 0.8100 - val_loss: 0.6928 - val_accuracy: 0.5120\n",
            "Epoch 3/10\n",
            "4/4 [==============================] - 6s 2s/step - loss: 0.6588 - accuracy: 0.9200 - val_loss: 0.6924 - val_accuracy: 0.5138\n",
            "Epoch 4/10\n",
            "4/4 [==============================] - 6s 2s/step - loss: 0.6332 - accuracy: 0.9600 - val_loss: 0.6918 - val_accuracy: 0.5234\n",
            "Epoch 5/10\n",
            "4/4 [==============================] - 5s 2s/step - loss: 0.6015 - accuracy: 0.9900 - val_loss: 0.6906 - val_accuracy: 0.5305\n",
            "Epoch 6/10\n",
            "4/4 [==============================] - 3s 1s/step - loss: 0.5502 - accuracy: 0.9900 - val_loss: 0.6887 - val_accuracy: 0.5413\n",
            "Epoch 7/10\n",
            "4/4 [==============================] - 3s 1s/step - loss: 0.4680 - accuracy: 0.9800 - val_loss: 0.6869 - val_accuracy: 0.5387\n",
            "Epoch 8/10\n",
            "4/4 [==============================] - 6s 2s/step - loss: 0.3393 - accuracy: 0.9900 - val_loss: 0.7233 - val_accuracy: 0.5672\n",
            "Epoch 9/10\n",
            "4/4 [==============================] - 5s 2s/step - loss: 0.2130 - accuracy: 0.9700 - val_loss: 0.6973 - val_accuracy: 0.6004\n",
            "Epoch 10/10\n",
            "4/4 [==============================] - 3s 993ms/step - loss: 0.1193 - accuracy: 1.0000 - val_loss: 0.6864 - val_accuracy: 0.5967\n",
            "782/782 [==============================] - 21s 20ms/step - loss: 0.6850 - accuracy: 0.5991\n",
            "Test acc: 0.599\n"
          ]
        }
      ],
      "source": [
        "inputs = keras.Input(shape=(None,), dtype=\"int64\")\n",
        "embedded = layers.Embedding(\n",
        "    input_dim=max_tokens, output_dim=256, mask_zero=True)(inputs)\n",
        "x = layers.Bidirectional(layers.LSTM(32))(embedded)\n",
        "x = layers.Dropout(0.5)(x)\n",
        "outputs = layers.Dense(1, activation=\"sigmoid\")(x)\n",
        "model = keras.Model(inputs, outputs)\n",
        "model.compile(optimizer=\"adam\",\n",
        "              loss=\"binary_crossentropy\",\n",
        "              metrics=[\"accuracy\"])\n",
        "model.summary()\n",
        "\n",
        "callbacks = [\n",
        "    keras.callbacks.ModelCheckpoint(\"embeddings_bidir_gru_with_masking.keras\",\n",
        "                                    save_best_only=True)\n",
        "]\n",
        "model.fit(int_train_ds, validation_data=int_val_ds, epochs=10, callbacks=callbacks)\n",
        "model = keras.models.load_model(\"embeddings_bidir_gru_with_masking.keras\")\n",
        "print(f\"Test acc: {model.evaluate(int_test_ds)[1]:.3f}\")"
      ]
    },
    {
      "cell_type": "markdown",
      "metadata": {
        "id": "c-VPe9WRVvK6"
      },
      "source": [
        "#### Using pretrained word embeddings"
      ]
    },
    {
      "cell_type": "code",
      "execution_count": null,
      "metadata": {
        "id": "GhnKSkSkVvK6",
        "colab": {
          "base_uri": "https://localhost:8080/"
        },
        "outputId": "d5858a18-34a8-47e7-edd5-785b937e7c62"
      },
      "outputs": [
        {
          "output_type": "stream",
          "name": "stdout",
          "text": [
            "--2024-05-03 03:35:02--  http://nlp.stanford.edu/data/glove.6B.zip\n",
            "Resolving nlp.stanford.edu (nlp.stanford.edu)... 171.64.67.140\n",
            "Connecting to nlp.stanford.edu (nlp.stanford.edu)|171.64.67.140|:80... connected.\n",
            "HTTP request sent, awaiting response... 302 Found\n",
            "Location: https://nlp.stanford.edu/data/glove.6B.zip [following]\n",
            "--2024-05-03 03:35:03--  https://nlp.stanford.edu/data/glove.6B.zip\n",
            "Connecting to nlp.stanford.edu (nlp.stanford.edu)|171.64.67.140|:443... connected.\n",
            "HTTP request sent, awaiting response... 301 Moved Permanently\n",
            "Location: https://downloads.cs.stanford.edu/nlp/data/glove.6B.zip [following]\n",
            "--2024-05-03 03:35:04--  https://downloads.cs.stanford.edu/nlp/data/glove.6B.zip\n",
            "Resolving downloads.cs.stanford.edu (downloads.cs.stanford.edu)... 171.64.64.22\n",
            "Connecting to downloads.cs.stanford.edu (downloads.cs.stanford.edu)|171.64.64.22|:443... connected.\n",
            "HTTP request sent, awaiting response... 200 OK\n",
            "Length: 862182613 (822M) [application/zip]\n",
            "Saving to: ‘glove.6B.zip’\n",
            "\n",
            "glove.6B.zip        100%[===================>] 822.24M  2.31MB/s    in 4m 46s  \n",
            "\n",
            "2024-05-03 03:39:50 (2.88 MB/s) - ‘glove.6B.zip’ saved [862182613/862182613]\n",
            "\n"
          ]
        }
      ],
      "source": [
        "!wget http://nlp.stanford.edu/data/glove.6B.zip\n",
        "!unzip -q glove.6B.zip"
      ]
    },
    {
      "cell_type": "markdown",
      "metadata": {
        "id": "YFNfneyTVvK6"
      },
      "source": [
        "**Parsing the GloVe word-embeddings file**"
      ]
    },
    {
      "cell_type": "code",
      "execution_count": null,
      "metadata": {
        "id": "ONb4__dLVvK6",
        "colab": {
          "base_uri": "https://localhost:8080/"
        },
        "outputId": "f40c112b-eafd-4b17-9ca1-1fbde4efff9a"
      },
      "outputs": [
        {
          "output_type": "stream",
          "name": "stdout",
          "text": [
            "Found 400000 word vectors.\n"
          ]
        }
      ],
      "source": [
        "import numpy as np\n",
        "path_to_glove_file = \"glove.6B.100d.txt\"\n",
        "\n",
        "embeddings_index = {}\n",
        "with open(path_to_glove_file) as f:\n",
        "    for line in f:\n",
        "        word, coefs = line.split(maxsplit=1)\n",
        "        coefs = np.fromstring(coefs, \"f\", sep=\" \")\n",
        "        embeddings_index[word] = coefs\n",
        "\n",
        "print(f\"Found {len(embeddings_index)} word vectors.\")"
      ]
    },
    {
      "cell_type": "markdown",
      "metadata": {
        "id": "l0hnV2fXVvK6"
      },
      "source": [
        "**Preparing the GloVe word-embeddings matrix**"
      ]
    },
    {
      "cell_type": "code",
      "execution_count": null,
      "metadata": {
        "id": "T_uP7g8RVvK6"
      },
      "outputs": [],
      "source": [
        "embedding_dim = 100\n",
        "\n",
        "vocabulary = text_vectorization.get_vocabulary()\n",
        "word_index = dict(zip(vocabulary, range(len(vocabulary))))\n",
        "\n",
        "embedding_matrix = np.zeros((max_tokens, embedding_dim))\n",
        "for word, i in word_index.items():\n",
        "    if i < max_tokens:\n",
        "        embedding_vector = embeddings_index.get(word)\n",
        "    if embedding_vector is not None:\n",
        "        embedding_matrix[i] = embedding_vector"
      ]
    },
    {
      "cell_type": "code",
      "execution_count": null,
      "metadata": {
        "id": "bMTQmZH_VvK6"
      },
      "outputs": [],
      "source": [
        "embedding_layer = layers.Embedding(\n",
        "    max_tokens,\n",
        "    embedding_dim,\n",
        "    embeddings_initializer=keras.initializers.Constant(embedding_matrix),\n",
        "    trainable=False,\n",
        "    mask_zero=True,\n",
        ")"
      ]
    },
    {
      "cell_type": "markdown",
      "metadata": {
        "id": "73MjPxZwVvK6"
      },
      "source": [
        "**Model that uses a pretrained Embedding layer**"
      ]
    },
    {
      "cell_type": "code",
      "execution_count": null,
      "metadata": {
        "id": "2Uq2RK5KVvK6",
        "colab": {
          "base_uri": "https://localhost:8080/"
        },
        "outputId": "442d0a82-dd25-494b-e879-be0f1e6931d2"
      },
      "outputs": [
        {
          "output_type": "stream",
          "name": "stdout",
          "text": [
            "Model: \"model_9\"\n",
            "_________________________________________________________________\n",
            " Layer (type)                Output Shape              Param #   \n",
            "=================================================================\n",
            " input_10 (InputLayer)       [(None, None)]            0         \n",
            "                                                                 \n",
            " embedding_7 (Embedding)     (None, None, 256)         2560000   \n",
            "                                                                 \n",
            " bidirectional_9 (Bidirecti  (None, 64)                73984     \n",
            " onal)                                                           \n",
            "                                                                 \n",
            " dropout_9 (Dropout)         (None, 64)                0         \n",
            "                                                                 \n",
            " dense_9 (Dense)             (None, 1)                 65        \n",
            "                                                                 \n",
            "=================================================================\n",
            "Total params: 2634049 (10.05 MB)\n",
            "Trainable params: 2634049 (10.05 MB)\n",
            "Non-trainable params: 0 (0.00 Byte)\n",
            "_________________________________________________________________\n",
            "Epoch 1/10\n",
            "4/4 [==============================] - 7s 1s/step - loss: 0.6923 - accuracy: 0.4500 - val_loss: 0.6935 - val_accuracy: 0.5063\n",
            "Epoch 2/10\n",
            "4/4 [==============================] - 3s 975ms/step - loss: 0.6766 - accuracy: 0.7900 - val_loss: 0.6941 - val_accuracy: 0.5132\n",
            "Epoch 3/10\n",
            "4/4 [==============================] - 5s 2s/step - loss: 0.6655 - accuracy: 0.8100 - val_loss: 0.6949 - val_accuracy: 0.5140\n",
            "Epoch 4/10\n",
            "4/4 [==============================] - 5s 2s/step - loss: 0.6420 - accuracy: 0.8600 - val_loss: 0.6955 - val_accuracy: 0.5200\n",
            "Epoch 5/10\n",
            "4/4 [==============================] - 5s 2s/step - loss: 0.6156 - accuracy: 0.8600 - val_loss: 0.6963 - val_accuracy: 0.5262\n",
            "Epoch 6/10\n",
            "4/4 [==============================] - 3s 814ms/step - loss: 0.5685 - accuracy: 0.8700 - val_loss: 0.6949 - val_accuracy: 0.5275\n",
            "Epoch 7/10\n",
            "4/4 [==============================] - 3s 882ms/step - loss: 0.4929 - accuracy: 0.8900 - val_loss: 0.6825 - val_accuracy: 0.5559\n",
            "Epoch 8/10\n",
            "4/4 [==============================] - 3s 968ms/step - loss: 0.3593 - accuracy: 0.9900 - val_loss: 0.7108 - val_accuracy: 0.5784\n",
            "Epoch 9/10\n",
            "4/4 [==============================] - 6s 2s/step - loss: 0.3209 - accuracy: 0.9200 - val_loss: 0.7781 - val_accuracy: 0.5482\n",
            "Epoch 10/10\n",
            "4/4 [==============================] - 6s 2s/step - loss: 0.2463 - accuracy: 0.9900 - val_loss: 0.7342 - val_accuracy: 0.5615\n",
            "782/782 [==============================] - 9s 9ms/step - loss: 0.6845 - accuracy: 0.5527\n",
            "Test acc: 0.553\n"
          ]
        }
      ],
      "source": [
        "inputs = keras.Input(shape=(None,), dtype=\"int64\")\n",
        "embedded = embedding_layer(inputs)\n",
        "x = layers.Bidirectional(layers.LSTM(32))(embedded)\n",
        "x = layers.Dropout(0.5)(x)\n",
        "outputs = layers.Dense(1, activation=\"sigmoid\")(x)\n",
        "model = keras.Model(inputs, outputs)\n",
        "model.compile(optimizer=\"adam\",\n",
        "              loss=\"binary_crossentropy\",\n",
        "              metrics=[\"accuracy\"])\n",
        "model.summary()\n",
        "\n",
        "callbacks = [\n",
        "    keras.callbacks.ModelCheckpoint(\"glove_embeddings_sequence_model.keras\",\n",
        "                                    save_best_only=True)\n",
        "]\n",
        "model.fit(int_train_ds, validation_data=int_val_ds, epochs=10, callbacks=callbacks)\n",
        "model = keras.models.load_model(\"glove_embeddings_sequence_model.keras\")\n",
        "print(f\"Test acc: {model.evaluate(int_test_ds)[1]:.3f}\")"
      ]
    }
  ],
  "metadata": {
    "colab": {
      "provenance": [],
      "gpuType": "T4"
    },
    "kernelspec": {
      "display_name": "Python 3",
      "name": "python3"
    },
    "language_info": {
      "codemirror_mode": {
        "name": "ipython",
        "version": 3
      },
      "file_extension": ".py",
      "mimetype": "text/x-python",
      "name": "python",
      "nbconvert_exporter": "python",
      "pygments_lexer": "ipython3",
      "version": "3.7.0"
    },
    "accelerator": "GPU"
  },
  "nbformat": 4,
  "nbformat_minor": 0
}