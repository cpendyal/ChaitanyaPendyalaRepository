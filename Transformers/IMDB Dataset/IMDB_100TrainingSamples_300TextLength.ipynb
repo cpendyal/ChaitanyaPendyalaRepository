{
  "cells": [
    {
      "cell_type": "markdown",
      "metadata": {
        "id": "0RUw8qf9VvKy"
      },
      "source": [
        "This is a companion notebook for the book [Deep Learning with Python, Second Edition](https://www.manning.com/books/deep-learning-with-python-second-edition?a_aid=keras&a_bid=76564dff). For readability, it only contains runnable code blocks and section titles, and omits everything else in the book: text paragraphs, figures, and pseudocode.\n",
        "\n",
        "**If you want to be able to follow what's going on, I recommend reading the notebook side by side with your copy of the book.**\n",
        "\n",
        "This notebook was generated for TensorFlow 2.6."
      ]
    },
    {
      "cell_type": "markdown",
      "metadata": {
        "id": "AGDCzQ73VvK0"
      },
      "source": [
        "### Processing words as a sequence: The sequence model approach"
      ]
    },
    {
      "cell_type": "markdown",
      "metadata": {
        "id": "i9wZZIaEVvK0"
      },
      "source": [
        "#### A first practical example"
      ]
    },
    {
      "cell_type": "markdown",
      "metadata": {
        "id": "mJYAfPexVvK0"
      },
      "source": [
        "**Downloading the data**"
      ]
    },
    {
      "cell_type": "code",
      "execution_count": null,
      "metadata": {
        "id": "Cgf6PTwiVvK1",
        "outputId": "312c5fce-9e76-4206-c585-7a010ab17518",
        "colab": {
          "base_uri": "https://localhost:8080/"
        }
      },
      "outputs": [
        {
          "output_type": "stream",
          "name": "stdout",
          "text": [
            "  % Total    % Received % Xferd  Average Speed   Time    Time     Time  Current\n",
            "                                 Dload  Upload   Total   Spent    Left  Speed\n",
            "100 80.2M  100 80.2M    0     0  4906k      0  0:00:16  0:00:16 --:--:-- 6991k\n"
          ]
        }
      ],
      "source": [
        "!curl -O https://ai.stanford.edu/~amaas/data/sentiment/aclImdb_v1.tar.gz\n",
        "!tar -xf aclImdb_v1.tar.gz\n",
        "!rm -r aclImdb/train/unsup"
      ]
    },
    {
      "cell_type": "markdown",
      "metadata": {
        "id": "qskkHdUfVvK1"
      },
      "source": [
        "**Preparing the data**"
      ]
    },
    {
      "cell_type": "code",
      "execution_count": null,
      "metadata": {
        "id": "ZNX-OhpXVvK2",
        "outputId": "b15dbb92-75bf-4ad7-fdd0-5e5af886539f",
        "colab": {
          "base_uri": "https://localhost:8080/"
        }
      },
      "outputs": [
        {
          "output_type": "stream",
          "name": "stdout",
          "text": [
            "Found 100 files belonging to 2 classes.\n",
            "Found 10000 files belonging to 2 classes.\n",
            "Found 25000 files belonging to 2 classes.\n"
          ]
        }
      ],
      "source": [
        "import os, pathlib, shutil, random\n",
        "from tensorflow import keras\n",
        "batch_size = 32\n",
        "base_dir = pathlib.Path(\"aclImdb\")\n",
        "val_dir = base_dir / \"val\"\n",
        "train_dir = base_dir / \"train\"\n",
        "excess_dir = base_dir / \"excess\"\n",
        "for category in (\"neg\", \"pos\"):\n",
        "    os.makedirs(val_dir / category)\n",
        "    os.makedirs(excess_dir / category)\n",
        "    files = os.listdir(train_dir / category)\n",
        "    random.Random(1337).shuffle(files)\n",
        "    num_val_samples = 5000\n",
        "    val_files = files[-num_val_samples:]\n",
        "    for fname in val_files:\n",
        "        shutil.move(train_dir / category / fname,\n",
        "                    val_dir / category / fname)\n",
        "\n",
        "    files = os.listdir(train_dir / category)\n",
        "    random.Random(1338).shuffle(files)\n",
        "    num_ex_samples = 50\n",
        "    ex_files = files[-num_ex_samples:]\n",
        "    for fname in ex_files:\n",
        "        shutil.move(train_dir / category / fname,\n",
        "                    excess_dir / category / fname)\n",
        "\n",
        "train_ds = keras.utils.text_dataset_from_directory(\n",
        "    \"aclImdb/excess\", batch_size=batch_size\n",
        ")\n",
        "val_ds = keras.utils.text_dataset_from_directory(\n",
        "    \"aclImdb/val\", batch_size=batch_size\n",
        ")\n",
        "test_ds = keras.utils.text_dataset_from_directory(\n",
        "    \"aclImdb/test\", batch_size=batch_size\n",
        ")\n",
        "text_only_train_ds = train_ds.map(lambda x, y: x)"
      ]
    },
    {
      "cell_type": "code",
      "source": [
        "\n",
        "!ls -al /content/aclImdb/excess/neg/ | wc\n",
        "!ls -al /content/aclImdb/excess/pos/ | wc\n",
        "!ls -al /content/aclImdb/val/pos/ | wc\n",
        "!rm -rf /content/aclImdb1/\n",
        "!rm -rf /content/aclImdb/"
      ],
      "metadata": {
        "id": "5A4bB94KbPqH",
        "outputId": "f651de25-e478-4426-b83a-4595effa9ead",
        "colab": {
          "base_uri": "https://localhost:8080/"
        }
      },
      "execution_count": null,
      "outputs": [
        {
          "output_type": "stream",
          "name": "stdout",
          "text": [
            "     53     470    2702\n",
            "     53     470    2722\n",
            "  10003   90020  545011\n"
          ]
        }
      ]
    },
    {
      "cell_type": "markdown",
      "metadata": {
        "id": "PJf8R_-eVvK2"
      },
      "source": [
        "**Preparing integer sequence datasets**"
      ]
    },
    {
      "cell_type": "code",
      "execution_count": null,
      "metadata": {
        "id": "cH2ALGr_VvK2"
      },
      "outputs": [],
      "source": [
        "from tensorflow.keras import layers\n",
        "\n",
        "max_length = 300\n",
        "max_tokens = 10000\n",
        "text_vectorization = layers.TextVectorization(\n",
        "    max_tokens=max_tokens,\n",
        "    output_mode=\"int\",\n",
        "    output_sequence_length=max_length,\n",
        ")\n",
        "text_vectorization.adapt(text_only_train_ds)\n",
        "\n",
        "int_train_ds = train_ds.map(\n",
        "    lambda x, y: (text_vectorization(x), y),\n",
        "    num_parallel_calls=4)\n",
        "int_val_ds = val_ds.map(\n",
        "    lambda x, y: (text_vectorization(x), y),\n",
        "    num_parallel_calls=4)\n",
        "int_test_ds = test_ds.map(\n",
        "    lambda x, y: (text_vectorization(x), y),\n",
        "    num_parallel_calls=4)"
      ]
    },
    {
      "cell_type": "markdown",
      "metadata": {
        "id": "n1KD7sSoVvK3"
      },
      "source": [
        "**A sequence model built on one-hot encoded vector sequences**"
      ]
    },
    {
      "cell_type": "code",
      "execution_count": null,
      "metadata": {
        "id": "D7o7lmIRVvK3",
        "colab": {
          "base_uri": "https://localhost:8080/"
        },
        "outputId": "4c11572f-eb4a-477c-a0d4-3b778855afe6"
      },
      "outputs": [
        {
          "output_type": "stream",
          "name": "stdout",
          "text": [
            "Model: \"model_13\"\n",
            "_________________________________________________________________\n",
            " Layer (type)                Output Shape              Param #   \n",
            "=================================================================\n",
            " input_14 (InputLayer)       [(None, None)]            0         \n",
            "                                                                 \n",
            " tf.one_hot_1 (TFOpLambda)   (None, None, 10000)       0         \n",
            "                                                                 \n",
            " bidirectional_13 (Bidirect  (None, 64)                2568448   \n",
            " ional)                                                          \n",
            "                                                                 \n",
            " dropout_13 (Dropout)        (None, 64)                0         \n",
            "                                                                 \n",
            " dense_13 (Dense)            (None, 1)                 65        \n",
            "                                                                 \n",
            "=================================================================\n",
            "Total params: 2568513 (9.80 MB)\n",
            "Trainable params: 2568513 (9.80 MB)\n",
            "Non-trainable params: 0 (0.00 Byte)\n",
            "_________________________________________________________________\n"
          ]
        }
      ],
      "source": [
        "import tensorflow as tf\n",
        "inputs = keras.Input(shape=(None,), dtype=\"int64\")\n",
        "embedded = tf.one_hot(inputs, depth=max_tokens)\n",
        "x = layers.Bidirectional(layers.LSTM(32))(embedded)\n",
        "x = layers.Dropout(0.5)(x)\n",
        "outputs = layers.Dense(1, activation=\"sigmoid\")(x)\n",
        "model = keras.Model(inputs, outputs)\n",
        "model.compile(optimizer=\"adam\",\n",
        "              loss=\"binary_crossentropy\",\n",
        "              metrics=[\"accuracy\"])\n",
        "model.summary()"
      ]
    },
    {
      "cell_type": "markdown",
      "metadata": {
        "id": "iCp2KCjrVvK3"
      },
      "source": [
        "**Training a first basic sequence model**"
      ]
    },
    {
      "cell_type": "code",
      "execution_count": null,
      "metadata": {
        "id": "kPK-nrBnVvK3",
        "colab": {
          "base_uri": "https://localhost:8080/"
        },
        "outputId": "224d494d-6d38-4134-bf38-4f8aab1ff90e"
      },
      "outputs": [
        {
          "output_type": "stream",
          "name": "stdout",
          "text": [
            "Epoch 1/10\n",
            "4/4 [==============================] - 25s 7s/step - loss: 0.6926 - accuracy: 0.4900 - val_loss: 0.6931 - val_accuracy: 0.4995\n",
            "Epoch 2/10\n",
            "4/4 [==============================] - 11s 4s/step - loss: 0.6917 - accuracy: 0.5500 - val_loss: 0.6931 - val_accuracy: 0.5010\n",
            "Epoch 3/10\n",
            "4/4 [==============================] - 11s 4s/step - loss: 0.6885 - accuracy: 0.6400 - val_loss: 0.6929 - val_accuracy: 0.5142\n",
            "Epoch 4/10\n",
            "4/4 [==============================] - 11s 4s/step - loss: 0.6845 - accuracy: 0.7200 - val_loss: 0.6928 - val_accuracy: 0.5268\n",
            "Epoch 5/10\n",
            "4/4 [==============================] - 11s 4s/step - loss: 0.6814 - accuracy: 0.8100 - val_loss: 0.6926 - val_accuracy: 0.5334\n",
            "Epoch 6/10\n",
            "4/4 [==============================] - 11s 4s/step - loss: 0.6751 - accuracy: 0.8200 - val_loss: 0.6923 - val_accuracy: 0.5212\n",
            "Epoch 7/10\n",
            "4/4 [==============================] - 21s 7s/step - loss: 0.6712 - accuracy: 0.7800 - val_loss: 0.6921 - val_accuracy: 0.5103\n",
            "Epoch 8/10\n",
            "4/4 [==============================] - 11s 4s/step - loss: 0.6593 - accuracy: 0.8200 - val_loss: 0.6909 - val_accuracy: 0.5322\n",
            "Epoch 9/10\n",
            "4/4 [==============================] - 11s 4s/step - loss: 0.6317 - accuracy: 0.9600 - val_loss: 0.6859 - val_accuracy: 0.5897\n",
            "Epoch 10/10\n",
            "4/4 [==============================] - 21s 7s/step - loss: 0.5674 - accuracy: 0.9700 - val_loss: 0.6752 - val_accuracy: 0.5655\n",
            "782/782 [==============================] - 31s 37ms/step - loss: 0.6748 - accuracy: 0.5676\n",
            "Test acc: 0.568\n"
          ]
        }
      ],
      "source": [
        "callbacks = [\n",
        "    keras.callbacks.ModelCheckpoint(\"one_hot_bidir_lstm.keras\",\n",
        "                                    save_best_only=True)\n",
        "]\n",
        "model.fit(int_train_ds, validation_data=int_val_ds, epochs=10, callbacks=callbacks)\n",
        "model = keras.models.load_model(\"one_hot_bidir_lstm.keras\")\n",
        "print(f\"Test acc: {model.evaluate(int_test_ds)[1]:.3f}\")"
      ]
    },
    {
      "cell_type": "markdown",
      "metadata": {
        "id": "H_TIf0FHVvK4"
      },
      "source": [
        "#### Understanding word embeddings"
      ]
    },
    {
      "cell_type": "markdown",
      "metadata": {
        "id": "m1mhW9dIVvK4"
      },
      "source": [
        "#### Learning word embeddings with the Embedding layer"
      ]
    },
    {
      "cell_type": "markdown",
      "metadata": {
        "id": "NOaineC8VvK4"
      },
      "source": [
        "**Instantiating an `Embedding` layer**"
      ]
    },
    {
      "cell_type": "code",
      "execution_count": null,
      "metadata": {
        "id": "P5htm57OVvK5"
      },
      "outputs": [],
      "source": [
        "embedding_layer = layers.Embedding(input_dim=max_tokens, output_dim=256)"
      ]
    },
    {
      "cell_type": "markdown",
      "metadata": {
        "id": "ApyfdGMMVvK5"
      },
      "source": [
        "**Model that uses an `Embedding` layer trained from scratch**"
      ]
    },
    {
      "cell_type": "code",
      "execution_count": null,
      "metadata": {
        "id": "QFlxPYS3VvK5",
        "colab": {
          "base_uri": "https://localhost:8080/"
        },
        "outputId": "d0cb66e3-97e4-4554-95a0-d85be395c073"
      },
      "outputs": [
        {
          "output_type": "stream",
          "name": "stdout",
          "text": [
            "Model: \"model_14\"\n",
            "_________________________________________________________________\n",
            " Layer (type)                Output Shape              Param #   \n",
            "=================================================================\n",
            " input_15 (InputLayer)       [(None, None)]            0         \n",
            "                                                                 \n",
            " embedding_14 (Embedding)    (None, None, 256)         2560000   \n",
            "                                                                 \n",
            " bidirectional_14 (Bidirect  (None, 64)                73984     \n",
            " ional)                                                          \n",
            "                                                                 \n",
            " dropout_14 (Dropout)        (None, 64)                0         \n",
            "                                                                 \n",
            " dense_14 (Dense)            (None, 1)                 65        \n",
            "                                                                 \n",
            "=================================================================\n",
            "Total params: 2634049 (10.05 MB)\n",
            "Trainable params: 2634049 (10.05 MB)\n",
            "Non-trainable params: 0 (0.00 Byte)\n",
            "_________________________________________________________________\n",
            "Epoch 1/10\n",
            "4/4 [==============================] - 14s 2s/step - loss: 0.6929 - accuracy: 0.5200 - val_loss: 0.6931 - val_accuracy: 0.5104\n",
            "Epoch 2/10\n",
            "4/4 [==============================] - 6s 2s/step - loss: 0.6783 - accuracy: 0.6200 - val_loss: 0.6930 - val_accuracy: 0.5125\n",
            "Epoch 3/10\n",
            "4/4 [==============================] - 11s 4s/step - loss: 0.6673 - accuracy: 0.6800 - val_loss: 0.6927 - val_accuracy: 0.5129\n",
            "Epoch 4/10\n",
            "4/4 [==============================] - 6s 2s/step - loss: 0.6591 - accuracy: 0.7100 - val_loss: 0.6918 - val_accuracy: 0.5162\n",
            "Epoch 5/10\n",
            "4/4 [==============================] - 11s 4s/step - loss: 0.6274 - accuracy: 0.9000 - val_loss: 0.6904 - val_accuracy: 0.5369\n",
            "Epoch 6/10\n",
            "4/4 [==============================] - 6s 2s/step - loss: 0.5796 - accuracy: 0.9700 - val_loss: 0.6881 - val_accuracy: 0.5413\n",
            "Epoch 7/10\n",
            "4/4 [==============================] - 4s 1s/step - loss: 0.5087 - accuracy: 0.9800 - val_loss: 0.6978 - val_accuracy: 0.5153\n",
            "Epoch 8/10\n",
            "4/4 [==============================] - 7s 2s/step - loss: 0.3947 - accuracy: 0.9800 - val_loss: 0.6632 - val_accuracy: 0.6051\n",
            "Epoch 9/10\n",
            "4/4 [==============================] - 11s 4s/step - loss: 0.2763 - accuracy: 1.0000 - val_loss: 0.6807 - val_accuracy: 0.5907\n",
            "Epoch 10/10\n",
            "4/4 [==============================] - 4s 1s/step - loss: 0.2315 - accuracy: 1.0000 - val_loss: 0.7442 - val_accuracy: 0.5694\n",
            "782/782 [==============================] - 17s 20ms/step - loss: 0.6629 - accuracy: 0.6022\n",
            "Test acc: 0.602\n"
          ]
        }
      ],
      "source": [
        "inputs = keras.Input(shape=(None,), dtype=\"int64\")\n",
        "embedded = layers.Embedding(input_dim=max_tokens, output_dim=256)(inputs)\n",
        "x = layers.Bidirectional(layers.LSTM(32))(embedded)\n",
        "x = layers.Dropout(0.5)(x)\n",
        "outputs = layers.Dense(1, activation=\"sigmoid\")(x)\n",
        "model = keras.Model(inputs, outputs)\n",
        "model.compile(optimizer=\"adam\",\n",
        "              loss=\"binary_crossentropy\",\n",
        "              metrics=[\"accuracy\"])\n",
        "model.summary()\n",
        "\n",
        "callbacks = [\n",
        "    keras.callbacks.ModelCheckpoint(\"embeddings_bidir_gru.keras\",\n",
        "                                    save_best_only=True)\n",
        "]\n",
        "model.fit(int_train_ds, validation_data=int_val_ds, epochs=10, callbacks=callbacks)\n",
        "model = keras.models.load_model(\"embeddings_bidir_gru.keras\")\n",
        "print(f\"Test acc: {model.evaluate(int_test_ds)[1]:.3f}\")"
      ]
    },
    {
      "cell_type": "markdown",
      "metadata": {
        "id": "51XoyrViVvK5"
      },
      "source": [
        "#### Understanding padding and masking"
      ]
    },
    {
      "cell_type": "markdown",
      "metadata": {
        "id": "dqfvUFbEVvK5"
      },
      "source": [
        "**Using an `Embedding` layer with masking enabled**"
      ]
    },
    {
      "cell_type": "code",
      "execution_count": null,
      "metadata": {
        "id": "5USW5v2rVvK5",
        "colab": {
          "base_uri": "https://localhost:8080/"
        },
        "outputId": "acc485a8-a9b4-4b99-9ff7-0ec340221441"
      },
      "outputs": [
        {
          "output_type": "stream",
          "name": "stdout",
          "text": [
            "Model: \"model_15\"\n",
            "_________________________________________________________________\n",
            " Layer (type)                Output Shape              Param #   \n",
            "=================================================================\n",
            " input_16 (InputLayer)       [(None, None)]            0         \n",
            "                                                                 \n",
            " embedding_15 (Embedding)    (None, None, 256)         2560000   \n",
            "                                                                 \n",
            " bidirectional_15 (Bidirect  (None, 64)                73984     \n",
            " ional)                                                          \n",
            "                                                                 \n",
            " dropout_15 (Dropout)        (None, 64)                0         \n",
            "                                                                 \n",
            " dense_15 (Dense)            (None, 1)                 65        \n",
            "                                                                 \n",
            "=================================================================\n",
            "Total params: 2634049 (10.05 MB)\n",
            "Trainable params: 2634049 (10.05 MB)\n",
            "Non-trainable params: 0 (0.00 Byte)\n",
            "_________________________________________________________________\n",
            "Epoch 1/10\n",
            "4/4 [==============================] - 22s 5s/step - loss: 0.6947 - accuracy: 0.4400 - val_loss: 0.6928 - val_accuracy: 0.5138\n",
            "Epoch 2/10\n",
            "4/4 [==============================] - 4s 1s/step - loss: 0.6766 - accuracy: 0.8400 - val_loss: 0.6924 - val_accuracy: 0.5231\n",
            "Epoch 3/10\n",
            "4/4 [==============================] - 6s 2s/step - loss: 0.6594 - accuracy: 0.9400 - val_loss: 0.6918 - val_accuracy: 0.5261\n",
            "Epoch 4/10\n",
            "4/4 [==============================] - 11s 4s/step - loss: 0.6439 - accuracy: 0.9500 - val_loss: 0.6909 - val_accuracy: 0.5357\n",
            "Epoch 5/10\n",
            "4/4 [==============================] - 4s 1s/step - loss: 0.6159 - accuracy: 0.9900 - val_loss: 0.6894 - val_accuracy: 0.5438\n",
            "Epoch 6/10\n",
            "4/4 [==============================] - 6s 2s/step - loss: 0.5665 - accuracy: 1.0000 - val_loss: 0.6866 - val_accuracy: 0.5509\n",
            "Epoch 7/10\n",
            "4/4 [==============================] - 11s 4s/step - loss: 0.4874 - accuracy: 1.0000 - val_loss: 0.6792 - val_accuracy: 0.5753\n",
            "Epoch 8/10\n",
            "4/4 [==============================] - 7s 2s/step - loss: 0.3591 - accuracy: 1.0000 - val_loss: 0.6508 - val_accuracy: 0.6273\n",
            "Epoch 9/10\n",
            "4/4 [==============================] - 5s 2s/step - loss: 0.1913 - accuracy: 1.0000 - val_loss: 0.6941 - val_accuracy: 0.6014\n",
            "Epoch 10/10\n",
            "4/4 [==============================] - 4s 1s/step - loss: 0.1214 - accuracy: 1.0000 - val_loss: 0.7036 - val_accuracy: 0.6078\n",
            "782/782 [==============================] - 21s 19ms/step - loss: 0.6525 - accuracy: 0.6228\n",
            "Test acc: 0.623\n"
          ]
        }
      ],
      "source": [
        "inputs = keras.Input(shape=(None,), dtype=\"int64\")\n",
        "embedded = layers.Embedding(\n",
        "    input_dim=max_tokens, output_dim=256, mask_zero=True)(inputs)\n",
        "x = layers.Bidirectional(layers.LSTM(32))(embedded)\n",
        "x = layers.Dropout(0.5)(x)\n",
        "outputs = layers.Dense(1, activation=\"sigmoid\")(x)\n",
        "model = keras.Model(inputs, outputs)\n",
        "model.compile(optimizer=\"adam\",\n",
        "              loss=\"binary_crossentropy\",\n",
        "              metrics=[\"accuracy\"])\n",
        "model.summary()\n",
        "\n",
        "callbacks = [\n",
        "    keras.callbacks.ModelCheckpoint(\"embeddings_bidir_gru_with_masking.keras\",\n",
        "                                    save_best_only=True)\n",
        "]\n",
        "model.fit(int_train_ds, validation_data=int_val_ds, epochs=10, callbacks=callbacks)\n",
        "model = keras.models.load_model(\"embeddings_bidir_gru_with_masking.keras\")\n",
        "print(f\"Test acc: {model.evaluate(int_test_ds)[1]:.3f}\")"
      ]
    },
    {
      "cell_type": "markdown",
      "metadata": {
        "id": "c-VPe9WRVvK6"
      },
      "source": [
        "#### Using pretrained word embeddings"
      ]
    },
    {
      "cell_type": "code",
      "execution_count": null,
      "metadata": {
        "id": "GhnKSkSkVvK6",
        "colab": {
          "base_uri": "https://localhost:8080/"
        },
        "outputId": "d5858a18-34a8-47e7-edd5-785b937e7c62"
      },
      "outputs": [
        {
          "output_type": "stream",
          "name": "stdout",
          "text": [
            "--2024-05-03 03:35:02--  http://nlp.stanford.edu/data/glove.6B.zip\n",
            "Resolving nlp.stanford.edu (nlp.stanford.edu)... 171.64.67.140\n",
            "Connecting to nlp.stanford.edu (nlp.stanford.edu)|171.64.67.140|:80... connected.\n",
            "HTTP request sent, awaiting response... 302 Found\n",
            "Location: https://nlp.stanford.edu/data/glove.6B.zip [following]\n",
            "--2024-05-03 03:35:03--  https://nlp.stanford.edu/data/glove.6B.zip\n",
            "Connecting to nlp.stanford.edu (nlp.stanford.edu)|171.64.67.140|:443... connected.\n",
            "HTTP request sent, awaiting response... 301 Moved Permanently\n",
            "Location: https://downloads.cs.stanford.edu/nlp/data/glove.6B.zip [following]\n",
            "--2024-05-03 03:35:04--  https://downloads.cs.stanford.edu/nlp/data/glove.6B.zip\n",
            "Resolving downloads.cs.stanford.edu (downloads.cs.stanford.edu)... 171.64.64.22\n",
            "Connecting to downloads.cs.stanford.edu (downloads.cs.stanford.edu)|171.64.64.22|:443... connected.\n",
            "HTTP request sent, awaiting response... 200 OK\n",
            "Length: 862182613 (822M) [application/zip]\n",
            "Saving to: ‘glove.6B.zip’\n",
            "\n",
            "glove.6B.zip        100%[===================>] 822.24M  2.31MB/s    in 4m 46s  \n",
            "\n",
            "2024-05-03 03:39:50 (2.88 MB/s) - ‘glove.6B.zip’ saved [862182613/862182613]\n",
            "\n"
          ]
        }
      ],
      "source": [
        "!wget http://nlp.stanford.edu/data/glove.6B.zip\n",
        "!unzip -q glove.6B.zip"
      ]
    },
    {
      "cell_type": "markdown",
      "metadata": {
        "id": "YFNfneyTVvK6"
      },
      "source": [
        "**Parsing the GloVe word-embeddings file**"
      ]
    },
    {
      "cell_type": "code",
      "execution_count": null,
      "metadata": {
        "id": "ONb4__dLVvK6",
        "colab": {
          "base_uri": "https://localhost:8080/"
        },
        "outputId": "862429ed-a216-438a-b309-cbdf1a758e42"
      },
      "outputs": [
        {
          "output_type": "stream",
          "name": "stdout",
          "text": [
            "Found 400000 word vectors.\n"
          ]
        }
      ],
      "source": [
        "import numpy as np\n",
        "path_to_glove_file = \"glove.6B.100d.txt\"\n",
        "\n",
        "embeddings_index = {}\n",
        "with open(path_to_glove_file) as f:\n",
        "    for line in f:\n",
        "        word, coefs = line.split(maxsplit=1)\n",
        "        coefs = np.fromstring(coefs, \"f\", sep=\" \")\n",
        "        embeddings_index[word] = coefs\n",
        "\n",
        "print(f\"Found {len(embeddings_index)} word vectors.\")"
      ]
    },
    {
      "cell_type": "markdown",
      "metadata": {
        "id": "l0hnV2fXVvK6"
      },
      "source": [
        "**Preparing the GloVe word-embeddings matrix**"
      ]
    },
    {
      "cell_type": "code",
      "execution_count": null,
      "metadata": {
        "id": "T_uP7g8RVvK6"
      },
      "outputs": [],
      "source": [
        "embedding_dim = 100\n",
        "\n",
        "vocabulary = text_vectorization.get_vocabulary()\n",
        "word_index = dict(zip(vocabulary, range(len(vocabulary))))\n",
        "\n",
        "embedding_matrix = np.zeros((max_tokens, embedding_dim))\n",
        "for word, i in word_index.items():\n",
        "    if i < max_tokens:\n",
        "        embedding_vector = embeddings_index.get(word)\n",
        "    if embedding_vector is not None:\n",
        "        embedding_matrix[i] = embedding_vector"
      ]
    },
    {
      "cell_type": "code",
      "execution_count": null,
      "metadata": {
        "id": "bMTQmZH_VvK6"
      },
      "outputs": [],
      "source": [
        "embedding_layer = layers.Embedding(\n",
        "    max_tokens,\n",
        "    embedding_dim,\n",
        "    embeddings_initializer=keras.initializers.Constant(embedding_matrix),\n",
        "    trainable=False,\n",
        "    mask_zero=True,\n",
        ")"
      ]
    },
    {
      "cell_type": "markdown",
      "metadata": {
        "id": "73MjPxZwVvK6"
      },
      "source": [
        "**Model that uses a pretrained Embedding layer**"
      ]
    },
    {
      "cell_type": "code",
      "execution_count": null,
      "metadata": {
        "id": "2Uq2RK5KVvK6",
        "colab": {
          "base_uri": "https://localhost:8080/"
        },
        "outputId": "6a1e4a87-333d-4165-94c9-eaf7d5dda00f"
      },
      "outputs": [
        {
          "output_type": "stream",
          "name": "stdout",
          "text": [
            "Model: \"model_16\"\n",
            "_________________________________________________________________\n",
            " Layer (type)                Output Shape              Param #   \n",
            "=================================================================\n",
            " input_17 (InputLayer)       [(None, None)]            0         \n",
            "                                                                 \n",
            " embedding_16 (Embedding)    (None, None, 100)         1000000   \n",
            "                                                                 \n",
            " bidirectional_16 (Bidirect  (None, 64)                34048     \n",
            " ional)                                                          \n",
            "                                                                 \n",
            " dropout_16 (Dropout)        (None, 64)                0         \n",
            "                                                                 \n",
            " dense_16 (Dense)            (None, 1)                 65        \n",
            "                                                                 \n",
            "=================================================================\n",
            "Total params: 1034113 (3.94 MB)\n",
            "Trainable params: 34113 (133.25 KB)\n",
            "Non-trainable params: 1000000 (3.81 MB)\n",
            "_________________________________________________________________\n",
            "Epoch 1/10\n",
            "4/4 [==============================] - 35s 9s/step - loss: 0.7232 - accuracy: 0.5000 - val_loss: 0.6891 - val_accuracy: 0.5406\n",
            "Epoch 2/10\n",
            "4/4 [==============================] - 20s 6s/step - loss: 0.6475 - accuracy: 0.6200 - val_loss: 0.6882 - val_accuracy: 0.5400\n",
            "Epoch 3/10\n",
            "4/4 [==============================] - 19s 6s/step - loss: 0.6976 - accuracy: 0.5200 - val_loss: 0.6874 - val_accuracy: 0.5415\n",
            "Epoch 4/10\n",
            "4/4 [==============================] - 16s 5s/step - loss: 0.6567 - accuracy: 0.6000 - val_loss: 0.6849 - val_accuracy: 0.5493\n",
            "Epoch 5/10\n",
            "4/4 [==============================] - 15s 5s/step - loss: 0.6539 - accuracy: 0.6000 - val_loss: 0.6832 - val_accuracy: 0.5562\n",
            "Epoch 6/10\n",
            "4/4 [==============================] - 7s 2s/step - loss: 0.6405 - accuracy: 0.6600 - val_loss: 0.6843 - val_accuracy: 0.5522\n",
            "Epoch 7/10\n",
            "4/4 [==============================] - 5s 2s/step - loss: 0.6748 - accuracy: 0.5700 - val_loss: 0.6845 - val_accuracy: 0.5531\n",
            "Epoch 8/10\n",
            "4/4 [==============================] - 16s 5s/step - loss: 0.6538 - accuracy: 0.5900 - val_loss: 0.6817 - val_accuracy: 0.5592\n",
            "Epoch 9/10\n",
            "4/4 [==============================] - 16s 5s/step - loss: 0.6425 - accuracy: 0.6700 - val_loss: 0.6797 - val_accuracy: 0.5641\n",
            "Epoch 10/10\n",
            "4/4 [==============================] - 19s 6s/step - loss: 0.6200 - accuracy: 0.6400 - val_loss: 0.6786 - val_accuracy: 0.5675\n",
            "782/782 [==============================] - 18s 17ms/step - loss: 0.6821 - accuracy: 0.5595\n",
            "Test acc: 0.560\n"
          ]
        }
      ],
      "source": [
        "inputs = keras.Input(shape=(None,), dtype=\"int64\")\n",
        "embedded = embedding_layer(inputs)\n",
        "x = layers.Bidirectional(layers.LSTM(32))(embedded)\n",
        "x = layers.Dropout(0.5)(x)\n",
        "outputs = layers.Dense(1, activation=\"sigmoid\")(x)\n",
        "model = keras.Model(inputs, outputs)\n",
        "model.compile(optimizer=\"adam\",\n",
        "              loss=\"binary_crossentropy\",\n",
        "              metrics=[\"accuracy\"])\n",
        "model.summary()\n",
        "\n",
        "callbacks = [\n",
        "    keras.callbacks.ModelCheckpoint(\"glove_embeddings_sequence_model.keras\",\n",
        "                                    save_best_only=True)\n",
        "]\n",
        "model.fit(int_train_ds, validation_data=int_val_ds, epochs=10, callbacks=callbacks)\n",
        "model = keras.models.load_model(\"glove_embeddings_sequence_model.keras\")\n",
        "print(f\"Test acc: {model.evaluate(int_test_ds)[1]:.3f}\")"
      ]
    }
  ],
  "metadata": {
    "colab": {
      "provenance": [],
      "gpuType": "T4"
    },
    "kernelspec": {
      "display_name": "Python 3",
      "name": "python3"
    },
    "language_info": {
      "codemirror_mode": {
        "name": "ipython",
        "version": 3
      },
      "file_extension": ".py",
      "mimetype": "text/x-python",
      "name": "python",
      "nbconvert_exporter": "python",
      "pygments_lexer": "ipython3",
      "version": "3.7.0"
    },
    "accelerator": "GPU"
  },
  "nbformat": 4,
  "nbformat_minor": 0
}