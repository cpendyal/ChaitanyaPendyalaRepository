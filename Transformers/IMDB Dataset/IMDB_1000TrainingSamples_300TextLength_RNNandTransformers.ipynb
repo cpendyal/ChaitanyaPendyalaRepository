{
  "cells": [
    {
      "cell_type": "markdown",
      "metadata": {
        "id": "0RUw8qf9VvKy"
      },
      "source": [
        "This is a companion notebook for the book [Deep Learning with Python, Second Edition](https://www.manning.com/books/deep-learning-with-python-second-edition?a_aid=keras&a_bid=76564dff). For readability, it only contains runnable code blocks and section titles, and omits everything else in the book: text paragraphs, figures, and pseudocode.\n",
        "\n",
        "**If you want to be able to follow what's going on, I recommend reading the notebook side by side with your copy of the book.**\n",
        "\n",
        "This notebook was generated for TensorFlow 2.6."
      ]
    },
    {
      "cell_type": "markdown",
      "metadata": {
        "id": "AGDCzQ73VvK0"
      },
      "source": [
        "### Processing words as a sequence: The sequence model approach"
      ]
    },
    {
      "cell_type": "markdown",
      "metadata": {
        "id": "i9wZZIaEVvK0"
      },
      "source": [
        "#### A first practical example"
      ]
    },
    {
      "cell_type": "markdown",
      "metadata": {
        "id": "mJYAfPexVvK0"
      },
      "source": [
        "**Downloading the data**"
      ]
    },
    {
      "cell_type": "code",
      "execution_count": null,
      "metadata": {
        "id": "Cgf6PTwiVvK1",
        "outputId": "389f54aa-885b-426f-bd36-a21cd255e6a8",
        "colab": {
          "base_uri": "https://localhost:8080/"
        }
      },
      "outputs": [
        {
          "output_type": "stream",
          "name": "stdout",
          "text": [
            "  % Total    % Received % Xferd  Average Speed   Time    Time     Time  Current\n",
            "                                 Dload  Upload   Total   Spent    Left  Speed\n",
            "100 80.2M  100 80.2M    0     0  13.1M      0  0:00:06  0:00:06 --:--:-- 16.1M\n"
          ]
        }
      ],
      "source": [
        "!curl -O https://ai.stanford.edu/~amaas/data/sentiment/aclImdb_v1.tar.gz\n",
        "!tar -xf aclImdb_v1.tar.gz\n",
        "!rm -r aclImdb/train/unsup"
      ]
    },
    {
      "cell_type": "markdown",
      "metadata": {
        "id": "qskkHdUfVvK1"
      },
      "source": [
        "**Preparing the data**"
      ]
    },
    {
      "cell_type": "code",
      "execution_count": null,
      "metadata": {
        "id": "ZNX-OhpXVvK2",
        "outputId": "8a8a8e04-8eba-4332-d089-6590a84e8166",
        "colab": {
          "base_uri": "https://localhost:8080/"
        }
      },
      "outputs": [
        {
          "output_type": "stream",
          "name": "stdout",
          "text": [
            "Found 1000 files belonging to 2 classes.\n",
            "Found 10000 files belonging to 2 classes.\n",
            "Found 25000 files belonging to 2 classes.\n"
          ]
        }
      ],
      "source": [
        "import os, pathlib, shutil, random\n",
        "from tensorflow import keras\n",
        "batch_size = 32\n",
        "base_dir = pathlib.Path(\"aclImdb\")\n",
        "val_dir = base_dir / \"val\"\n",
        "train_dir = base_dir / \"train\"\n",
        "excess_dir = base_dir / \"excess\"\n",
        "for category in (\"neg\", \"pos\"):\n",
        "    os.makedirs(val_dir / category)\n",
        "    os.makedirs(excess_dir / category)\n",
        "    files = os.listdir(train_dir / category)\n",
        "    random.Random(1337).shuffle(files)\n",
        "    num_val_samples = 5000\n",
        "    val_files = files[-num_val_samples:]\n",
        "    for fname in val_files:\n",
        "        shutil.move(train_dir / category / fname,\n",
        "                    val_dir / category / fname)\n",
        "\n",
        "    files = os.listdir(train_dir / category)\n",
        "    random.Random(1338).shuffle(files)\n",
        "    num_ex_samples = 500\n",
        "    ex_files = files[-num_ex_samples:]\n",
        "    for fname in ex_files:\n",
        "        shutil.move(train_dir / category / fname,\n",
        "                    excess_dir / category / fname)\n",
        "\n",
        "train_ds = keras.utils.text_dataset_from_directory(\n",
        "    \"aclImdb/excess\", batch_size=batch_size\n",
        ")\n",
        "val_ds = keras.utils.text_dataset_from_directory(\n",
        "    \"aclImdb/val\", batch_size=batch_size\n",
        ")\n",
        "test_ds = keras.utils.text_dataset_from_directory(\n",
        "    \"aclImdb/test\", batch_size=batch_size\n",
        ")\n",
        "text_only_train_ds = train_ds.map(lambda x, y: x)"
      ]
    },
    {
      "cell_type": "code",
      "source": [
        "\n",
        "!ls -al /content/aclImdb/excess/neg/ | wc\n",
        "!ls -al /content/aclImdb/excess/pos/ | wc\n",
        "!ls -al /content/aclImdb/val/pos/ | wc\n",
        "!rm -rf /content/aclImdb1/\n",
        "!rm -rf /content/aclImdb/"
      ],
      "metadata": {
        "id": "5A4bB94KbPqH",
        "outputId": "96615134-8112-4475-eaec-33b763f1a07f",
        "colab": {
          "base_uri": "https://localhost:8080/"
        }
      },
      "execution_count": null,
      "outputs": [
        {
          "output_type": "stream",
          "name": "stdout",
          "text": [
            "   1003    9020   53186\n",
            "   1003    9020   53604\n",
            "   5003   45020  272533\n"
          ]
        }
      ]
    },
    {
      "cell_type": "markdown",
      "metadata": {
        "id": "PJf8R_-eVvK2"
      },
      "source": [
        "**Preparing integer sequence datasets**"
      ]
    },
    {
      "cell_type": "code",
      "execution_count": null,
      "metadata": {
        "id": "cH2ALGr_VvK2"
      },
      "outputs": [],
      "source": [
        "from tensorflow.keras import layers\n",
        "\n",
        "max_length = 300\n",
        "max_tokens = 10000\n",
        "text_vectorization = layers.TextVectorization(\n",
        "    max_tokens=max_tokens,\n",
        "    output_mode=\"int\",\n",
        "    output_sequence_length=max_length,\n",
        ")\n",
        "text_vectorization.adapt(text_only_train_ds)\n",
        "\n",
        "int_train_ds = train_ds.map(\n",
        "    lambda x, y: (text_vectorization(x), y),\n",
        "    num_parallel_calls=4)\n",
        "int_val_ds = val_ds.map(\n",
        "    lambda x, y: (text_vectorization(x), y),\n",
        "    num_parallel_calls=4)\n",
        "int_test_ds = test_ds.map(\n",
        "    lambda x, y: (text_vectorization(x), y),\n",
        "    num_parallel_calls=4)"
      ]
    },
    {
      "cell_type": "markdown",
      "metadata": {
        "id": "n1KD7sSoVvK3"
      },
      "source": [
        "**A sequence model built on one-hot encoded vector sequences**"
      ]
    },
    {
      "cell_type": "code",
      "execution_count": null,
      "metadata": {
        "id": "D7o7lmIRVvK3",
        "colab": {
          "base_uri": "https://localhost:8080/"
        },
        "outputId": "e3892169-a026-44fd-acc4-765397d48c4d"
      },
      "outputs": [
        {
          "output_type": "stream",
          "name": "stdout",
          "text": [
            "Model: \"model_8\"\n",
            "_________________________________________________________________\n",
            " Layer (type)                Output Shape              Param #   \n",
            "=================================================================\n",
            " input_9 (InputLayer)        [(None, None)]            0         \n",
            "                                                                 \n",
            " tf.one_hot_1 (TFOpLambda)   (None, None, 10000)       0         \n",
            "                                                                 \n",
            " bidirectional_4 (Bidirecti  (None, 64)                2568448   \n",
            " onal)                                                           \n",
            "                                                                 \n",
            " dropout_8 (Dropout)         (None, 64)                0         \n",
            "                                                                 \n",
            " dense_24 (Dense)            (None, 1)                 65        \n",
            "                                                                 \n",
            "=================================================================\n",
            "Total params: 2568513 (9.80 MB)\n",
            "Trainable params: 2568513 (9.80 MB)\n",
            "Non-trainable params: 0 (0.00 Byte)\n",
            "_________________________________________________________________\n"
          ]
        }
      ],
      "source": [
        "import tensorflow as tf\n",
        "inputs = keras.Input(shape=(None,), dtype=\"int64\")\n",
        "embedded = tf.one_hot(inputs, depth=max_tokens)\n",
        "x = layers.Bidirectional(layers.LSTM(32))(embedded)\n",
        "x = layers.Dropout(0.5)(x)\n",
        "outputs = layers.Dense(1, activation=\"sigmoid\")(x)\n",
        "model = keras.Model(inputs, outputs)\n",
        "model.compile(optimizer=\"adam\",\n",
        "              loss=\"binary_crossentropy\",\n",
        "              metrics=[\"accuracy\"])\n",
        "model.summary()"
      ]
    },
    {
      "cell_type": "markdown",
      "metadata": {
        "id": "iCp2KCjrVvK3"
      },
      "source": [
        "**Training a first basic sequence model**"
      ]
    },
    {
      "cell_type": "code",
      "execution_count": null,
      "metadata": {
        "id": "kPK-nrBnVvK3",
        "colab": {
          "base_uri": "https://localhost:8080/"
        },
        "outputId": "e6d3cae0-ae91-4ffe-80aa-339a265cea5d"
      },
      "outputs": [
        {
          "output_type": "stream",
          "name": "stdout",
          "text": [
            "Epoch 1/10\n",
            "32/32 [==============================] - 22s 589ms/step - loss: 0.6927 - accuracy: 0.5090 - val_loss: 0.6918 - val_accuracy: 0.5497\n",
            "Epoch 2/10\n",
            "32/32 [==============================] - 23s 734ms/step - loss: 0.6805 - accuracy: 0.6300 - val_loss: 0.6749 - val_accuracy: 0.6210\n",
            "Epoch 3/10\n",
            "32/32 [==============================] - 23s 732ms/step - loss: 0.6164 - accuracy: 0.7410 - val_loss: 0.6734 - val_accuracy: 0.5433\n",
            "Epoch 4/10\n",
            "32/32 [==============================] - 13s 428ms/step - loss: 0.5340 - accuracy: 0.8460 - val_loss: 0.5860 - val_accuracy: 0.6956\n",
            "Epoch 5/10\n",
            "32/32 [==============================] - 23s 742ms/step - loss: 0.3220 - accuracy: 0.9230 - val_loss: 0.5494 - val_accuracy: 0.7466\n",
            "Epoch 6/10\n",
            "32/32 [==============================] - 13s 420ms/step - loss: 0.2712 - accuracy: 0.9330 - val_loss: 0.5723 - val_accuracy: 0.7463\n",
            "Epoch 7/10\n",
            "32/32 [==============================] - 14s 433ms/step - loss: 0.1777 - accuracy: 0.9670 - val_loss: 0.5666 - val_accuracy: 0.7076\n",
            "Epoch 8/10\n",
            "32/32 [==============================] - 23s 730ms/step - loss: 0.0886 - accuracy: 0.9860 - val_loss: 0.5813 - val_accuracy: 0.7352\n",
            "Epoch 9/10\n",
            "32/32 [==============================] - 23s 728ms/step - loss: 0.0458 - accuracy: 0.9970 - val_loss: 0.7318 - val_accuracy: 0.6707\n",
            "Epoch 10/10\n",
            "32/32 [==============================] - 13s 426ms/step - loss: 0.1728 - accuracy: 0.9400 - val_loss: 0.6049 - val_accuracy: 0.7169\n",
            "782/782 [==============================] - 31s 37ms/step - loss: 0.5603 - accuracy: 0.7396\n",
            "Test acc: 0.740\n"
          ]
        }
      ],
      "source": [
        "callbacks = [\n",
        "    keras.callbacks.ModelCheckpoint(\"one_hot_bidir_lstm.keras\",\n",
        "                                    save_best_only=True)\n",
        "]\n",
        "model.fit(int_train_ds, validation_data=int_val_ds, epochs=10, callbacks=callbacks)\n",
        "model = keras.models.load_model(\"one_hot_bidir_lstm.keras\")\n",
        "print(f\"Test acc: {model.evaluate(int_test_ds)[1]:.3f}\")"
      ]
    },
    {
      "cell_type": "markdown",
      "metadata": {
        "id": "H_TIf0FHVvK4"
      },
      "source": [
        "#### Understanding word embeddings"
      ]
    },
    {
      "cell_type": "markdown",
      "metadata": {
        "id": "m1mhW9dIVvK4"
      },
      "source": [
        "#### Learning word embeddings with the Embedding layer"
      ]
    },
    {
      "cell_type": "markdown",
      "metadata": {
        "id": "NOaineC8VvK4"
      },
      "source": [
        "**Instantiating an `Embedding` layer**"
      ]
    },
    {
      "cell_type": "code",
      "execution_count": null,
      "metadata": {
        "id": "P5htm57OVvK5"
      },
      "outputs": [],
      "source": [
        "embedding_layer = layers.Embedding(input_dim=max_tokens, output_dim=256)"
      ]
    },
    {
      "cell_type": "markdown",
      "metadata": {
        "id": "ApyfdGMMVvK5"
      },
      "source": [
        "**Model that uses an `Embedding` layer trained from scratch**"
      ]
    },
    {
      "cell_type": "code",
      "execution_count": null,
      "metadata": {
        "id": "QFlxPYS3VvK5",
        "colab": {
          "base_uri": "https://localhost:8080/"
        },
        "outputId": "ed0aa636-c993-467b-c9cb-f898186f04f4"
      },
      "outputs": [
        {
          "output_type": "stream",
          "name": "stdout",
          "text": [
            "Model: \"model_9\"\n",
            "_________________________________________________________________\n",
            " Layer (type)                Output Shape              Param #   \n",
            "=================================================================\n",
            " input_10 (InputLayer)       [(None, None)]            0         \n",
            "                                                                 \n",
            " embedding_15 (Embedding)    (None, None, 256)         2560000   \n",
            "                                                                 \n",
            " bidirectional_5 (Bidirecti  (None, 64)                73984     \n",
            " onal)                                                           \n",
            "                                                                 \n",
            " dropout_9 (Dropout)         (None, 64)                0         \n",
            "                                                                 \n",
            " dense_25 (Dense)            (None, 1)                 65        \n",
            "                                                                 \n",
            "=================================================================\n",
            "Total params: 2634049 (10.05 MB)\n",
            "Trainable params: 2634049 (10.05 MB)\n",
            "Non-trainable params: 0 (0.00 Byte)\n",
            "_________________________________________________________________\n",
            "Epoch 1/10\n",
            "32/32 [==============================] - 16s 369ms/step - loss: 0.6930 - accuracy: 0.5000 - val_loss: 0.6896 - val_accuracy: 0.5333\n",
            "Epoch 2/10\n",
            "32/32 [==============================] - 7s 217ms/step - loss: 0.6295 - accuracy: 0.7050 - val_loss: 0.5955 - val_accuracy: 0.6966\n",
            "Epoch 3/10\n",
            "32/32 [==============================] - 16s 493ms/step - loss: 0.3557 - accuracy: 0.8770 - val_loss: 0.5523 - val_accuracy: 0.7251\n",
            "Epoch 4/10\n",
            "32/32 [==============================] - 15s 465ms/step - loss: 0.2004 - accuracy: 0.9750 - val_loss: 0.6315 - val_accuracy: 0.7399\n",
            "Epoch 5/10\n",
            "32/32 [==============================] - 6s 195ms/step - loss: 0.0956 - accuracy: 0.9900 - val_loss: 0.6355 - val_accuracy: 0.7531\n",
            "Epoch 6/10\n",
            "32/32 [==============================] - 8s 254ms/step - loss: 0.0500 - accuracy: 0.9960 - val_loss: 0.6858 - val_accuracy: 0.7453\n",
            "Epoch 7/10\n",
            "32/32 [==============================] - 9s 290ms/step - loss: 0.0347 - accuracy: 0.9970 - val_loss: 0.8314 - val_accuracy: 0.7351\n",
            "Epoch 8/10\n",
            "32/32 [==============================] - 6s 201ms/step - loss: 0.0303 - accuracy: 0.9980 - val_loss: 0.8879 - val_accuracy: 0.7242\n",
            "Epoch 9/10\n",
            "32/32 [==============================] - 13s 427ms/step - loss: 0.0209 - accuracy: 0.9980 - val_loss: 0.8563 - val_accuracy: 0.7314\n",
            "Epoch 10/10\n",
            "32/32 [==============================] - 6s 193ms/step - loss: 0.0166 - accuracy: 1.0000 - val_loss: 0.9093 - val_accuracy: 0.7475\n",
            "782/782 [==============================] - 12s 13ms/step - loss: 0.5638 - accuracy: 0.7183\n",
            "Test acc: 0.718\n"
          ]
        }
      ],
      "source": [
        "inputs = keras.Input(shape=(None,), dtype=\"int64\")\n",
        "embedded = layers.Embedding(input_dim=max_tokens, output_dim=256)(inputs)\n",
        "x = layers.Bidirectional(layers.LSTM(32))(embedded)\n",
        "x = layers.Dropout(0.5)(x)\n",
        "outputs = layers.Dense(1, activation=\"sigmoid\")(x)\n",
        "model = keras.Model(inputs, outputs)\n",
        "model.compile(optimizer=\"adam\",\n",
        "              loss=\"binary_crossentropy\",\n",
        "              metrics=[\"accuracy\"])\n",
        "model.summary()\n",
        "\n",
        "callbacks = [\n",
        "    keras.callbacks.ModelCheckpoint(\"embeddings_bidir_gru.keras\",\n",
        "                                    save_best_only=True)\n",
        "]\n",
        "model.fit(int_train_ds, validation_data=int_val_ds, epochs=10, callbacks=callbacks)\n",
        "model = keras.models.load_model(\"embeddings_bidir_gru.keras\")\n",
        "print(f\"Test acc: {model.evaluate(int_test_ds)[1]:.3f}\")"
      ]
    },
    {
      "cell_type": "markdown",
      "metadata": {
        "id": "51XoyrViVvK5"
      },
      "source": [
        "#### Understanding padding and masking"
      ]
    },
    {
      "cell_type": "markdown",
      "metadata": {
        "id": "dqfvUFbEVvK5"
      },
      "source": [
        "**Using an `Embedding` layer with masking enabled**"
      ]
    },
    {
      "cell_type": "code",
      "execution_count": null,
      "metadata": {
        "id": "5USW5v2rVvK5",
        "colab": {
          "base_uri": "https://localhost:8080/"
        },
        "outputId": "02a6ee18-4b00-4b38-888f-32868f106026"
      },
      "outputs": [
        {
          "output_type": "stream",
          "name": "stdout",
          "text": [
            "Model: \"model_10\"\n",
            "_________________________________________________________________\n",
            " Layer (type)                Output Shape              Param #   \n",
            "=================================================================\n",
            " input_11 (InputLayer)       [(None, None)]            0         \n",
            "                                                                 \n",
            " embedding_16 (Embedding)    (None, None, 256)         2560000   \n",
            "                                                                 \n",
            " bidirectional_6 (Bidirecti  (None, 64)                73984     \n",
            " onal)                                                           \n",
            "                                                                 \n",
            " dropout_10 (Dropout)        (None, 64)                0         \n",
            "                                                                 \n",
            " dense_26 (Dense)            (None, 1)                 65        \n",
            "                                                                 \n",
            "=================================================================\n",
            "Total params: 2634049 (10.05 MB)\n",
            "Trainable params: 2634049 (10.05 MB)\n",
            "Non-trainable params: 0 (0.00 Byte)\n",
            "_________________________________________________________________\n",
            "Epoch 1/10\n",
            "32/32 [==============================] - 29s 454ms/step - loss: 0.6928 - accuracy: 0.5040 - val_loss: 0.6867 - val_accuracy: 0.5911\n",
            "Epoch 2/10\n",
            "32/32 [==============================] - 12s 378ms/step - loss: 0.6059 - accuracy: 0.8320 - val_loss: 0.5937 - val_accuracy: 0.7076\n",
            "Epoch 3/10\n",
            "32/32 [==============================] - 10s 313ms/step - loss: 0.2717 - accuracy: 0.9290 - val_loss: 0.4702 - val_accuracy: 0.7817\n",
            "Epoch 4/10\n",
            "32/32 [==============================] - 8s 253ms/step - loss: 0.0748 - accuracy: 0.9840 - val_loss: 0.5201 - val_accuracy: 0.7800\n",
            "Epoch 5/10\n",
            "32/32 [==============================] - 11s 353ms/step - loss: 0.0266 - accuracy: 0.9960 - val_loss: 0.6210 - val_accuracy: 0.7915\n",
            "Epoch 6/10\n",
            "32/32 [==============================] - 7s 227ms/step - loss: 0.0129 - accuracy: 0.9990 - val_loss: 0.6341 - val_accuracy: 0.7884\n",
            "Epoch 7/10\n",
            "32/32 [==============================] - 13s 430ms/step - loss: 0.0060 - accuracy: 1.0000 - val_loss: 0.7469 - val_accuracy: 0.7893\n",
            "Epoch 8/10\n",
            "32/32 [==============================] - 8s 240ms/step - loss: 0.0042 - accuracy: 1.0000 - val_loss: 0.8072 - val_accuracy: 0.7795\n",
            "Epoch 9/10\n",
            "32/32 [==============================] - 7s 235ms/step - loss: 0.0030 - accuracy: 1.0000 - val_loss: 0.7589 - val_accuracy: 0.7914\n",
            "Epoch 10/10\n",
            "32/32 [==============================] - 10s 316ms/step - loss: 0.0024 - accuracy: 1.0000 - val_loss: 0.8141 - val_accuracy: 0.7932\n",
            "782/782 [==============================] - 20s 20ms/step - loss: 0.4761 - accuracy: 0.7756\n",
            "Test acc: 0.776\n"
          ]
        }
      ],
      "source": [
        "inputs = keras.Input(shape=(None,), dtype=\"int64\")\n",
        "embedded = layers.Embedding(\n",
        "    input_dim=max_tokens, output_dim=256, mask_zero=True)(inputs)\n",
        "x = layers.Bidirectional(layers.LSTM(32))(embedded)\n",
        "x = layers.Dropout(0.5)(x)\n",
        "outputs = layers.Dense(1, activation=\"sigmoid\")(x)\n",
        "model = keras.Model(inputs, outputs)\n",
        "model.compile(optimizer=\"adam\",\n",
        "              loss=\"binary_crossentropy\",\n",
        "              metrics=[\"accuracy\"])\n",
        "model.summary()\n",
        "\n",
        "callbacks = [\n",
        "    keras.callbacks.ModelCheckpoint(\"embeddings_bidir_gru_with_masking.keras\",\n",
        "                                    save_best_only=True)\n",
        "]\n",
        "model.fit(int_train_ds, validation_data=int_val_ds, epochs=10, callbacks=callbacks)\n",
        "model = keras.models.load_model(\"embeddings_bidir_gru_with_masking.keras\")\n",
        "print(f\"Test acc: {model.evaluate(int_test_ds)[1]:.3f}\")"
      ]
    },
    {
      "cell_type": "markdown",
      "metadata": {
        "id": "c-VPe9WRVvK6"
      },
      "source": [
        "#### Using pretrained word embeddings"
      ]
    },
    {
      "cell_type": "code",
      "execution_count": null,
      "metadata": {
        "id": "GhnKSkSkVvK6",
        "colab": {
          "base_uri": "https://localhost:8080/"
        },
        "outputId": "7603fba4-31ca-4c88-e127-c6a23c9cb869"
      },
      "outputs": [
        {
          "output_type": "stream",
          "name": "stdout",
          "text": [
            "--2024-05-04 16:45:21--  http://nlp.stanford.edu/data/glove.6B.zip\n",
            "Resolving nlp.stanford.edu (nlp.stanford.edu)... 171.64.67.140\n",
            "Connecting to nlp.stanford.edu (nlp.stanford.edu)|171.64.67.140|:80... connected.\n",
            "HTTP request sent, awaiting response... 302 Found\n",
            "Location: https://nlp.stanford.edu/data/glove.6B.zip [following]\n",
            "--2024-05-04 16:45:22--  https://nlp.stanford.edu/data/glove.6B.zip\n",
            "Connecting to nlp.stanford.edu (nlp.stanford.edu)|171.64.67.140|:443... connected.\n",
            "HTTP request sent, awaiting response... 301 Moved Permanently\n",
            "Location: https://downloads.cs.stanford.edu/nlp/data/glove.6B.zip [following]\n",
            "--2024-05-04 16:45:22--  https://downloads.cs.stanford.edu/nlp/data/glove.6B.zip\n",
            "Resolving downloads.cs.stanford.edu (downloads.cs.stanford.edu)... 171.64.64.22\n",
            "Connecting to downloads.cs.stanford.edu (downloads.cs.stanford.edu)|171.64.64.22|:443... connected.\n",
            "HTTP request sent, awaiting response... 200 OK\n",
            "Length: 862182613 (822M) [application/zip]\n",
            "Saving to: ‘glove.6B.zip.1’\n",
            "\n",
            "glove.6B.zip.1      100%[===================>] 822.24M  5.15MB/s    in 6m 7s   \n",
            "\n",
            "2024-05-04 16:51:29 (2.24 MB/s) - ‘glove.6B.zip.1’ saved [862182613/862182613]\n",
            "\n",
            "replace glove.6B.50d.txt? [y]es, [n]o, [A]ll, [N]one, [r]ename: "
          ]
        }
      ],
      "source": [
        "!wget http://nlp.stanford.edu/data/glove.6B.zip\n",
        "!unzip -q glove.6B.zip"
      ]
    },
    {
      "cell_type": "markdown",
      "metadata": {
        "id": "YFNfneyTVvK6"
      },
      "source": [
        "**Parsing the GloVe word-embeddings file**"
      ]
    },
    {
      "cell_type": "code",
      "execution_count": null,
      "metadata": {
        "id": "ONb4__dLVvK6",
        "colab": {
          "base_uri": "https://localhost:8080/"
        },
        "outputId": "27e4b3ee-f6cb-4793-9f9d-a8a4f1daab29"
      },
      "outputs": [
        {
          "output_type": "stream",
          "name": "stdout",
          "text": [
            "Found 400000 word vectors.\n"
          ]
        }
      ],
      "source": [
        "import numpy as np\n",
        "path_to_glove_file = \"glove.6B.100d.txt\"\n",
        "\n",
        "embeddings_index = {}\n",
        "with open(path_to_glove_file) as f:\n",
        "    for line in f:\n",
        "        word, coefs = line.split(maxsplit=1)\n",
        "        coefs = np.fromstring(coefs, \"f\", sep=\" \")\n",
        "        embeddings_index[word] = coefs\n",
        "\n",
        "print(f\"Found {len(embeddings_index)} word vectors.\")"
      ]
    },
    {
      "cell_type": "markdown",
      "metadata": {
        "id": "l0hnV2fXVvK6"
      },
      "source": [
        "**Preparing the GloVe word-embeddings matrix**"
      ]
    },
    {
      "cell_type": "code",
      "execution_count": null,
      "metadata": {
        "id": "T_uP7g8RVvK6"
      },
      "outputs": [],
      "source": [
        "embedding_dim = 100\n",
        "\n",
        "vocabulary = text_vectorization.get_vocabulary()\n",
        "word_index = dict(zip(vocabulary, range(len(vocabulary))))\n",
        "\n",
        "embedding_matrix = np.zeros((max_tokens, embedding_dim))\n",
        "for word, i in word_index.items():\n",
        "    if i < max_tokens:\n",
        "        embedding_vector = embeddings_index.get(word)\n",
        "    if embedding_vector is not None:\n",
        "        embedding_matrix[i] = embedding_vector"
      ]
    },
    {
      "cell_type": "code",
      "execution_count": null,
      "metadata": {
        "id": "bMTQmZH_VvK6"
      },
      "outputs": [],
      "source": [
        "embedding_layer = layers.Embedding(\n",
        "    max_tokens,\n",
        "    embedding_dim,\n",
        "    embeddings_initializer=keras.initializers.Constant(embedding_matrix),\n",
        "    trainable=False,\n",
        "    mask_zero=True,\n",
        ")"
      ]
    },
    {
      "cell_type": "markdown",
      "metadata": {
        "id": "73MjPxZwVvK6"
      },
      "source": [
        "**Model that uses a pretrained Embedding layer**"
      ]
    },
    {
      "cell_type": "code",
      "execution_count": null,
      "metadata": {
        "id": "2Uq2RK5KVvK6",
        "colab": {
          "base_uri": "https://localhost:8080/"
        },
        "outputId": "636228df-c077-48e0-976d-bbc284d8f4fe"
      },
      "outputs": [
        {
          "output_type": "stream",
          "name": "stdout",
          "text": [
            "Model: \"model_11\"\n",
            "_________________________________________________________________\n",
            " Layer (type)                Output Shape              Param #   \n",
            "=================================================================\n",
            " input_12 (InputLayer)       [(None, None)]            0         \n",
            "                                                                 \n",
            " embedding_17 (Embedding)    (None, None, 100)         1000000   \n",
            "                                                                 \n",
            " bidirectional_7 (Bidirecti  (None, 64)                34048     \n",
            " onal)                                                           \n",
            "                                                                 \n",
            " dropout_11 (Dropout)        (None, 64)                0         \n",
            "                                                                 \n",
            " dense_27 (Dense)            (None, 1)                 65        \n",
            "                                                                 \n",
            "=================================================================\n",
            "Total params: 1034113 (3.94 MB)\n",
            "Trainable params: 34113 (133.25 KB)\n",
            "Non-trainable params: 1000000 (3.81 MB)\n",
            "_________________________________________________________________\n",
            "Epoch 1/10\n",
            "32/32 [==============================] - 32s 725ms/step - loss: 0.7071 - accuracy: 0.5220 - val_loss: 0.6839 - val_accuracy: 0.5572\n",
            "Epoch 2/10\n",
            "32/32 [==============================] - 22s 721ms/step - loss: 0.6748 - accuracy: 0.5790 - val_loss: 0.6683 - val_accuracy: 0.6036\n",
            "Epoch 3/10\n",
            "32/32 [==============================] - 21s 666ms/step - loss: 0.6444 - accuracy: 0.6320 - val_loss: 0.6471 - val_accuracy: 0.6266\n",
            "Epoch 4/10\n",
            "32/32 [==============================] - 6s 193ms/step - loss: 0.6285 - accuracy: 0.6390 - val_loss: 0.6569 - val_accuracy: 0.6063\n",
            "Epoch 5/10\n",
            "32/32 [==============================] - 18s 584ms/step - loss: 0.5864 - accuracy: 0.6890 - val_loss: 0.6026 - val_accuracy: 0.6763\n",
            "Epoch 6/10\n",
            "32/32 [==============================] - 12s 378ms/step - loss: 0.6139 - accuracy: 0.6780 - val_loss: 0.6716 - val_accuracy: 0.5462\n",
            "Epoch 7/10\n",
            "32/32 [==============================] - 4s 141ms/step - loss: 0.6258 - accuracy: 0.6470 - val_loss: 0.6170 - val_accuracy: 0.6732\n",
            "Epoch 8/10\n",
            "32/32 [==============================] - 6s 193ms/step - loss: 0.7087 - accuracy: 0.5960 - val_loss: 0.7104 - val_accuracy: 0.5099\n",
            "Epoch 9/10\n",
            "32/32 [==============================] - 12s 375ms/step - loss: 0.6391 - accuracy: 0.6390 - val_loss: 0.6520 - val_accuracy: 0.6245\n",
            "Epoch 10/10\n",
            "32/32 [==============================] - 5s 144ms/step - loss: 0.6155 - accuracy: 0.6700 - val_loss: 0.6314 - val_accuracy: 0.6445\n",
            "782/782 [==============================] - 23s 21ms/step - loss: 0.6081 - accuracy: 0.6648\n",
            "Test acc: 0.665\n"
          ]
        }
      ],
      "source": [
        "inputs = keras.Input(shape=(None,), dtype=\"int64\")\n",
        "embedded = embedding_layer(inputs)\n",
        "x = layers.Bidirectional(layers.LSTM(32))(embedded)\n",
        "x = layers.Dropout(0.5)(x)\n",
        "outputs = layers.Dense(1, activation=\"sigmoid\")(x)\n",
        "model = keras.Model(inputs, outputs)\n",
        "model.compile(optimizer=\"adam\",\n",
        "              loss=\"binary_crossentropy\",\n",
        "              metrics=[\"accuracy\"])\n",
        "model.summary()\n",
        "\n",
        "callbacks = [\n",
        "    keras.callbacks.ModelCheckpoint(\"glove_embeddings_sequence_model.keras\",\n",
        "                                    save_best_only=True)\n",
        "]\n",
        "model.fit(int_train_ds, validation_data=int_val_ds, epochs=10, callbacks=callbacks)\n",
        "model = keras.models.load_model(\"glove_embeddings_sequence_model.keras\")\n",
        "print(f\"Test acc: {model.evaluate(int_test_ds)[1]:.3f}\")"
      ]
    },
    {
      "cell_type": "markdown",
      "source": [
        "## **Transformer encoder implemented as a subclassed Layer**"
      ],
      "metadata": {
        "id": "cl20QZukWqS6"
      }
    },
    {
      "cell_type": "code",
      "source": [
        "\n",
        "\n",
        "import tensorflow as tf\n",
        "from tensorflow import keras\n",
        "from tensorflow.keras import layers\n",
        "\n",
        "class TransformerEncoder(layers.Layer):\n",
        "    def __init__(self, embed_dim, dense_dim, num_heads, **kwargs):\n",
        "        super().__init__(**kwargs)\n",
        "        self.embed_dim = embed_dim\n",
        "        self.dense_dim = dense_dim\n",
        "        self.num_heads = num_heads\n",
        "        self.attention = layers.MultiHeadAttention(\n",
        "            num_heads=num_heads, key_dim=embed_dim)\n",
        "        self.dense_proj = keras.Sequential(\n",
        "            [layers.Dense(dense_dim, activation=\"relu\"),\n",
        "             layers.Dense(embed_dim),]\n",
        "        )\n",
        "        self.layernorm_1 = layers.LayerNormalization()\n",
        "        self.layernorm_2 = layers.LayerNormalization()\n",
        "\n",
        "    def call(self, inputs, mask=None):\n",
        "        if mask is not None:\n",
        "            mask = mask[:, tf.newaxis, :]\n",
        "        attention_output = self.attention(\n",
        "            inputs, inputs, attention_mask=mask)\n",
        "        proj_input = self.layernorm_1(inputs + attention_output)\n",
        "        proj_output = self.dense_proj(proj_input)\n",
        "        return self.layernorm_2(proj_input + proj_output)\n",
        "\n",
        "    def get_config(self):\n",
        "        config = super().get_config()\n",
        "        config.update({\n",
        "            \"embed_dim\": self.embed_dim,\n",
        "            \"num_heads\": self.num_heads,\n",
        "            \"dense_dim\": self.dense_dim,\n",
        "             })\n",
        "        return config"
      ],
      "metadata": {
        "id": "HdzYQHX4RvW_"
      },
      "execution_count": null,
      "outputs": []
    },
    {
      "cell_type": "markdown",
      "source": [
        "**Using the Transformer encoder for text classification**"
      ],
      "metadata": {
        "id": "pfspIqsJWw5k"
      }
    },
    {
      "cell_type": "code",
      "source": [
        "vocab_size = 10000\n",
        "embed_dim = 256\n",
        "num_heads = 2\n",
        "dense_dim = 32\n",
        "\n",
        "inputs = keras.Input(shape=(None,), dtype=\"int64\")\n",
        "x = layers.Embedding(vocab_size, embed_dim)(inputs)\n",
        "x = TransformerEncoder(embed_dim, dense_dim, num_heads)(x)\n",
        "x = layers.GlobalMaxPooling1D()(x)\n",
        "x = layers.Dropout(0.5)(x)\n",
        "outputs = layers.Dense(1, activation=\"sigmoid\")(x)\n",
        "model = keras.Model(inputs, outputs)\n",
        "model.compile(optimizer=\"adam\",\n",
        "              loss=\"binary_crossentropy\",\n",
        "              metrics=[\"accuracy\"])\n",
        "model.summary()"
      ],
      "metadata": {
        "colab": {
          "base_uri": "https://localhost:8080/"
        },
        "id": "HEps1JhGW1_6",
        "outputId": "602a52fc-5210-4009-e8cc-97c409521431"
      },
      "execution_count": null,
      "outputs": [
        {
          "output_type": "stream",
          "name": "stdout",
          "text": [
            "Model: \"model_12\"\n",
            "_________________________________________________________________\n",
            " Layer (type)                Output Shape              Param #   \n",
            "=================================================================\n",
            " input_13 (InputLayer)       [(None, None)]            0         \n",
            "                                                                 \n",
            " embedding_18 (Embedding)    (None, None, 256)         2560000   \n",
            "                                                                 \n",
            " transformer_encoder_4 (Tra  (None, None, 256)         543776    \n",
            " nsformerEncoder)                                                \n",
            "                                                                 \n",
            " global_max_pooling1d_4 (Gl  (None, 256)               0         \n",
            " obalMaxPooling1D)                                               \n",
            "                                                                 \n",
            " dropout_12 (Dropout)        (None, 256)               0         \n",
            "                                                                 \n",
            " dense_30 (Dense)            (None, 1)                 257       \n",
            "                                                                 \n",
            "=================================================================\n",
            "Total params: 3104033 (11.84 MB)\n",
            "Trainable params: 3104033 (11.84 MB)\n",
            "Non-trainable params: 0 (0.00 Byte)\n",
            "_________________________________________________________________\n"
          ]
        }
      ]
    },
    {
      "cell_type": "markdown",
      "source": [
        "**Training and evaluating the Transformer encoder based model**"
      ],
      "metadata": {
        "id": "Rm8cUQTYW9FH"
      }
    },
    {
      "cell_type": "code",
      "source": [
        "callbacks = [\n",
        "    keras.callbacks.ModelCheckpoint(\"transformer_encoder.keras\",\n",
        "                                    save_best_only=True)\n",
        "]\n",
        "model.fit(int_train_ds, validation_data=int_val_ds, epochs=20, callbacks=callbacks)\n",
        "model = keras.models.load_model(\n",
        "    \"transformer_encoder.keras\",\n",
        "    custom_objects={\"TransformerEncoder\": TransformerEncoder})\n",
        "print(f\"Test acc: {model.evaluate(int_test_ds)[1]:.3f}\")"
      ],
      "metadata": {
        "colab": {
          "base_uri": "https://localhost:8080/"
        },
        "id": "BqRKxeWRXA5s",
        "outputId": "347182f1-b293-4181-c9ed-0d672179eb07"
      },
      "execution_count": null,
      "outputs": [
        {
          "output_type": "stream",
          "name": "stdout",
          "text": [
            "Epoch 1/20\n",
            "32/32 [==============================] - 13s 329ms/step - loss: 1.2319 - accuracy: 0.5170 - val_loss: 0.7138 - val_accuracy: 0.5070\n",
            "Epoch 2/20\n",
            "32/32 [==============================] - 9s 285ms/step - loss: 0.6321 - accuracy: 0.6640 - val_loss: 0.5616 - val_accuracy: 0.6892\n",
            "Epoch 3/20\n",
            "32/32 [==============================] - 9s 299ms/step - loss: 0.4119 - accuracy: 0.8020 - val_loss: 0.4531 - val_accuracy: 0.7995\n",
            "Epoch 4/20\n",
            "32/32 [==============================] - 8s 271ms/step - loss: 0.2567 - accuracy: 0.9020 - val_loss: 0.4283 - val_accuracy: 0.8053\n",
            "Epoch 5/20\n",
            "32/32 [==============================] - 9s 279ms/step - loss: 0.1435 - accuracy: 0.9630 - val_loss: 0.4175 - val_accuracy: 0.8109\n",
            "Epoch 6/20\n",
            "32/32 [==============================] - 9s 290ms/step - loss: 0.0829 - accuracy: 0.9830 - val_loss: 0.4265 - val_accuracy: 0.8087\n",
            "Epoch 7/20\n",
            "32/32 [==============================] - 6s 185ms/step - loss: 0.0545 - accuracy: 0.9900 - val_loss: 0.4455 - val_accuracy: 0.8039\n",
            "Epoch 8/20\n",
            "32/32 [==============================] - 7s 221ms/step - loss: 0.0453 - accuracy: 0.9910 - val_loss: 0.4593 - val_accuracy: 0.8026\n",
            "Epoch 9/20\n",
            "32/32 [==============================] - 7s 234ms/step - loss: 0.0289 - accuracy: 0.9930 - val_loss: 0.4755 - val_accuracy: 0.7991\n",
            "Epoch 10/20\n",
            "32/32 [==============================] - 7s 237ms/step - loss: 0.0193 - accuracy: 0.9960 - val_loss: 0.4964 - val_accuracy: 0.7942\n",
            "Epoch 11/20\n",
            "32/32 [==============================] - 7s 224ms/step - loss: 0.0197 - accuracy: 0.9940 - val_loss: 0.5277 - val_accuracy: 0.7888\n",
            "Epoch 12/20\n",
            "32/32 [==============================] - 7s 209ms/step - loss: 0.0116 - accuracy: 0.9980 - val_loss: 0.5204 - val_accuracy: 0.7910\n",
            "Epoch 13/20\n",
            "32/32 [==============================] - 7s 227ms/step - loss: 0.0086 - accuracy: 1.0000 - val_loss: 0.5432 - val_accuracy: 0.7852\n",
            "Epoch 14/20\n",
            "32/32 [==============================] - 8s 237ms/step - loss: 0.0105 - accuracy: 0.9970 - val_loss: 0.5522 - val_accuracy: 0.7859\n",
            "Epoch 15/20\n",
            "32/32 [==============================] - 9s 278ms/step - loss: 0.0052 - accuracy: 1.0000 - val_loss: 0.5734 - val_accuracy: 0.7830\n",
            "Epoch 16/20\n",
            "32/32 [==============================] - 7s 224ms/step - loss: 0.0046 - accuracy: 1.0000 - val_loss: 0.5808 - val_accuracy: 0.7814\n",
            "Epoch 17/20\n",
            "32/32 [==============================] - 7s 226ms/step - loss: 0.0051 - accuracy: 0.9990 - val_loss: 0.5783 - val_accuracy: 0.7864\n",
            "Epoch 18/20\n",
            "32/32 [==============================] - 8s 240ms/step - loss: 0.0031 - accuracy: 1.0000 - val_loss: 0.5910 - val_accuracy: 0.7830\n",
            "Epoch 19/20\n",
            "32/32 [==============================] - 7s 209ms/step - loss: 0.0033 - accuracy: 1.0000 - val_loss: 0.6078 - val_accuracy: 0.7798\n",
            "Epoch 20/20\n",
            "32/32 [==============================] - 8s 254ms/step - loss: 0.0032 - accuracy: 0.9990 - val_loss: 0.6140 - val_accuracy: 0.7798\n",
            "782/782 [==============================] - 10s 13ms/step - loss: 0.4235 - accuracy: 0.8052\n",
            "Test acc: 0.805\n"
          ]
        }
      ]
    },
    {
      "cell_type": "markdown",
      "source": [
        "Using positional encoding to re-inject order information"
      ],
      "metadata": {
        "id": "YOrQFdw1XD8r"
      }
    },
    {
      "cell_type": "markdown",
      "source": [
        "**Implementing positional embedding as a subclassed layer**"
      ],
      "metadata": {
        "id": "il7xB-XMXLW9"
      }
    },
    {
      "cell_type": "code",
      "source": [
        "class PositionalEmbedding(layers.Layer):\n",
        "    def __init__(self, sequence_length, input_dim, output_dim, **kwargs):\n",
        "        super().__init__(**kwargs)\n",
        "        self.token_embeddings = layers.Embedding(\n",
        "            input_dim=input_dim, output_dim=output_dim)\n",
        "        self.position_embeddings = layers.Embedding(\n",
        "            input_dim=sequence_length, output_dim=output_dim)\n",
        "        self.sequence_length = sequence_length\n",
        "        self.input_dim = input_dim\n",
        "        self.output_dim = output_dim\n",
        "\n",
        "    def call(self, inputs):\n",
        "        length = tf.shape(inputs)[-1]\n",
        "        positions = tf.range(start=0, limit=length, delta=1)\n",
        "        embedded_tokens = self.token_embeddings(inputs)\n",
        "        embedded_positions = self.position_embeddings(positions)\n",
        "        return embedded_tokens + embedded_positions\n",
        "\n",
        "    def compute_mask(self, inputs, mask=None):\n",
        "        return tf.math.not_equal(inputs, 0)\n",
        "\n",
        "    def get_config(self):\n",
        "        config = super().get_config()\n",
        "        config.update({\n",
        "            \"output_dim\": self.output_dim,\n",
        "            \"sequence_length\": self.sequence_length,\n",
        "            \"input_dim\": self.input_dim,\n",
        "        })\n",
        "        return config"
      ],
      "metadata": {
        "id": "eNScUb8kXQRJ"
      },
      "execution_count": null,
      "outputs": []
    },
    {
      "cell_type": "markdown",
      "source": [
        "Putting it all together: A text-classification Transformer"
      ],
      "metadata": {
        "id": "X0xebwVvXVeB"
      }
    },
    {
      "cell_type": "markdown",
      "source": [
        "**Combining the Transformer encoder with positional embedding**"
      ],
      "metadata": {
        "id": "_ecYdi2QXc7t"
      }
    },
    {
      "cell_type": "code",
      "source": [
        "vocab_size = 10000\n",
        "sequence_length = 600\n",
        "embed_dim = 256\n",
        "num_heads = 2\n",
        "dense_dim = 32\n",
        "\n",
        "inputs = keras.Input(shape=(None,), dtype=\"int64\")\n",
        "x = PositionalEmbedding(sequence_length, vocab_size, embed_dim)(inputs)\n",
        "x = TransformerEncoder(embed_dim, dense_dim, num_heads)(x)\n",
        "x = layers.GlobalMaxPooling1D()(x)\n",
        "x = layers.Dropout(0.5)(x)\n",
        "outputs = layers.Dense(1, activation=\"sigmoid\")(x)\n",
        "model = keras.Model(inputs, outputs)\n",
        "model.compile(optimizer=\"adam\",\n",
        "              loss=\"binary_crossentropy\",\n",
        "              metrics=[\"accuracy\"])\n",
        "model.summary()\n",
        "\n",
        "callbacks = [\n",
        "    keras.callbacks.ModelCheckpoint(\"full_transformer_encoder.keras\",\n",
        "                                    save_best_only=True)\n",
        "]\n",
        "model.fit(int_train_ds, validation_data=int_val_ds, epochs=20, callbacks=callbacks)\n",
        "model = keras.models.load_model(\n",
        "    \"full_transformer_encoder.keras\",\n",
        "    custom_objects={\"TransformerEncoder\": TransformerEncoder,\n",
        "                    \"PositionalEmbedding\": PositionalEmbedding})\n",
        "print(f\"Test acc: {model.evaluate(int_test_ds)[1]:.3f}\")"
      ],
      "metadata": {
        "colab": {
          "base_uri": "https://localhost:8080/"
        },
        "id": "-JAISAB0XU-D",
        "outputId": "99d654ce-6f50-4388-eaf0-95cef21e8986"
      },
      "execution_count": null,
      "outputs": [
        {
          "output_type": "stream",
          "name": "stdout",
          "text": [
            "Model: \"model_13\"\n",
            "_________________________________________________________________\n",
            " Layer (type)                Output Shape              Param #   \n",
            "=================================================================\n",
            " input_14 (InputLayer)       [(None, None)]            0         \n",
            "                                                                 \n",
            " positional_embedding_2 (Po  (None, None, 256)         2713600   \n",
            " sitionalEmbedding)                                              \n",
            "                                                                 \n",
            " transformer_encoder_5 (Tra  (None, None, 256)         543776    \n",
            " nsformerEncoder)                                                \n",
            "                                                                 \n",
            " global_max_pooling1d_5 (Gl  (None, 256)               0         \n",
            " obalMaxPooling1D)                                               \n",
            "                                                                 \n",
            " dropout_13 (Dropout)        (None, 256)               0         \n",
            "                                                                 \n",
            " dense_35 (Dense)            (None, 1)                 257       \n",
            "                                                                 \n",
            "=================================================================\n",
            "Total params: 3257633 (12.43 MB)\n",
            "Trainable params: 3257633 (12.43 MB)\n",
            "Non-trainable params: 0 (0.00 Byte)\n",
            "_________________________________________________________________\n",
            "Epoch 1/20\n",
            "32/32 [==============================] - 12s 304ms/step - loss: 1.1834 - accuracy: 0.5070 - val_loss: 0.6688 - val_accuracy: 0.6038\n",
            "Epoch 2/20\n",
            "32/32 [==============================] - 8s 243ms/step - loss: 0.6926 - accuracy: 0.5950 - val_loss: 0.5980 - val_accuracy: 0.6971\n",
            "Epoch 3/20\n",
            "32/32 [==============================] - 10s 315ms/step - loss: 0.3466 - accuracy: 0.8500 - val_loss: 0.4901 - val_accuracy: 0.7793\n",
            "Epoch 4/20\n",
            "32/32 [==============================] - 7s 214ms/step - loss: 0.1037 - accuracy: 0.9580 - val_loss: 0.4999 - val_accuracy: 0.8014\n",
            "Epoch 5/20\n",
            "32/32 [==============================] - 8s 251ms/step - loss: 0.0447 - accuracy: 0.9870 - val_loss: 0.6024 - val_accuracy: 0.8042\n",
            "Epoch 6/20\n",
            "32/32 [==============================] - 10s 308ms/step - loss: 0.0160 - accuracy: 0.9910 - val_loss: 1.2855 - val_accuracy: 0.7117\n",
            "Epoch 7/20\n",
            "32/32 [==============================] - 7s 238ms/step - loss: 0.0075 - accuracy: 0.9980 - val_loss: 0.9609 - val_accuracy: 0.7643\n",
            "Epoch 8/20\n",
            "32/32 [==============================] - 7s 224ms/step - loss: 8.4303e-04 - accuracy: 1.0000 - val_loss: 0.8831 - val_accuracy: 0.7838\n",
            "Epoch 9/20\n",
            "32/32 [==============================] - 9s 292ms/step - loss: 4.2004e-04 - accuracy: 1.0000 - val_loss: 0.7485 - val_accuracy: 0.8037\n",
            "Epoch 10/20\n",
            "32/32 [==============================] - 9s 293ms/step - loss: 2.5533e-04 - accuracy: 1.0000 - val_loss: 0.7898 - val_accuracy: 0.8020\n",
            "Epoch 11/20\n",
            "32/32 [==============================] - 8s 257ms/step - loss: 1.7484e-04 - accuracy: 1.0000 - val_loss: 0.7767 - val_accuracy: 0.8047\n",
            "Epoch 12/20\n",
            "32/32 [==============================] - 7s 236ms/step - loss: 1.7825e-04 - accuracy: 1.0000 - val_loss: 0.7941 - val_accuracy: 0.8026\n",
            "Epoch 13/20\n",
            "32/32 [==============================] - 7s 231ms/step - loss: 1.2706e-04 - accuracy: 1.0000 - val_loss: 0.7915 - val_accuracy: 0.8048\n",
            "Epoch 14/20\n",
            "32/32 [==============================] - 6s 201ms/step - loss: 1.1991e-04 - accuracy: 1.0000 - val_loss: 0.7775 - val_accuracy: 0.8056\n",
            "Epoch 15/20\n",
            "32/32 [==============================] - 5s 167ms/step - loss: 1.3459e-04 - accuracy: 1.0000 - val_loss: 0.8011 - val_accuracy: 0.8051\n",
            "Epoch 16/20\n",
            "32/32 [==============================] - 8s 243ms/step - loss: 1.1992e-04 - accuracy: 1.0000 - val_loss: 0.8011 - val_accuracy: 0.8047\n",
            "Epoch 17/20\n",
            "32/32 [==============================] - 6s 198ms/step - loss: 1.4634e-04 - accuracy: 1.0000 - val_loss: 0.7906 - val_accuracy: 0.8076\n",
            "Epoch 18/20\n",
            "32/32 [==============================] - 7s 219ms/step - loss: 8.7767e-05 - accuracy: 1.0000 - val_loss: 0.8109 - val_accuracy: 0.8060\n",
            "Epoch 19/20\n",
            "32/32 [==============================] - 7s 235ms/step - loss: 7.7991e-05 - accuracy: 1.0000 - val_loss: 0.8129 - val_accuracy: 0.8057\n",
            "Epoch 20/20\n",
            "32/32 [==============================] - 6s 174ms/step - loss: 8.3865e-05 - accuracy: 1.0000 - val_loss: 0.8198 - val_accuracy: 0.8056\n",
            "782/782 [==============================] - 12s 15ms/step - loss: 0.5156 - accuracy: 0.7686\n",
            "Test acc: 0.769\n"
          ]
        }
      ]
    }
  ],
  "metadata": {
    "colab": {
      "provenance": [],
      "gpuType": "T4"
    },
    "kernelspec": {
      "display_name": "Python 3",
      "name": "python3"
    },
    "language_info": {
      "codemirror_mode": {
        "name": "ipython",
        "version": 3
      },
      "file_extension": ".py",
      "mimetype": "text/x-python",
      "name": "python",
      "nbconvert_exporter": "python",
      "pygments_lexer": "ipython3",
      "version": "3.7.0"
    },
    "accelerator": "GPU"
  },
  "nbformat": 4,
  "nbformat_minor": 0
}